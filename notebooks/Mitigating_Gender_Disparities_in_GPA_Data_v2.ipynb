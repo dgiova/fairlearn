{
 "cells": [
  {
   "cell_type": "code",
   "execution_count": 410,
   "metadata": {
    "colab": {},
    "colab_type": "code",
    "id": "xcF_9e_dsxkp"
   },
   "outputs": [],
   "source": [
    "import numpy as np\n",
    "import pandas as pd \n",
    "from IPython.display import display, HTML\n",
    "import matplotlib.pyplot as plt\n",
    "from scipy.stats import cumfreq\n",
    "import sklearn.metrics as skm\n",
    "\n",
    "from sklearn.calibration import CalibratedClassifierCV\n",
    "import sklearn.metrics as skm\n",
    "from sklearn.model_selection import train_test_split\n",
    "from sklearn.linear_model import LinearRegression, LogisticRegression\n",
    "from sklearn.ensemble import RandomForestRegressor\n",
    "from sklearn.neural_network import MLPRegressor"
   ]
  },
  {
   "cell_type": "code",
   "execution_count": 3,
   "metadata": {
    "colab": {},
    "colab_type": "code",
    "id": "e6NJny6gCbNX"
   },
   "outputs": [],
   "source": [
    "import fairlearn.metrics as flm\n",
    "from fairlearn.reductions import ExponentiatedGradient, GridSearch, DemographicParity, EqualizedOdds, GroupLossMoment, Moment, SquareLoss\n",
    "from fairlearn.metrics import group_mean_prediction, group_mean_squared_error, group_mean_overprediction, group_roc_auc_score, group_accuracy_score\n",
    "from fairlearn.metrics import group_roc_auc_score"
   ]
  },
  {
   "cell_type": "code",
   "execution_count": 133,
   "metadata": {},
   "outputs": [],
   "source": [
    "from fairlearn.metrics import group_mean_underprediction"
   ]
  },
  {
   "cell_type": "markdown",
   "metadata": {
    "colab_type": "text",
    "id": "g6OU2im4C9F2"
   },
   "source": [
    "# Helper Functions "
   ]
  },
  {
   "cell_type": "code",
   "execution_count": 4,
   "metadata": {
    "colab": {},
    "colab_type": "code",
    "id": "bT_v4SDXEUZp"
   },
   "outputs": [],
   "source": [
    "def split_dataframe(split, X, y, A, frac=True):\n",
    "  if frac==True: \n",
    "    random_idx = np.random.random_integers(0, len(X), int(split*len(X)))\n",
    "  else:\n",
    "    random_idx = np.random.random_integers(0, len(X), split)\n",
    "  X_random = X.iloc[random_idx]\n",
    "  y_random = y.iloc[random_idx]\n",
    "  A_random = A.iloc[random_idx]\n",
    "\n",
    "  return X_random, y_random, A_random"
   ]
  },
  {
   "cell_type": "code",
   "execution_count": 5,
   "metadata": {
    "colab": {},
    "colab_type": "code",
    "id": "0dAkI5MTEfPH"
   },
   "outputs": [],
   "source": [
    "def loss_fct(i):\n",
    "  return grid_search.objective_weight * grid_search._objectives[i] + \\\n",
    "  grid_search.constraint_weight * grid_search._gammas[i].max()"
   ]
  },
  {
   "cell_type": "code",
   "execution_count": 6,
   "metadata": {
    "colab": {},
    "colab_type": "code",
    "id": "qQD_0rNoEjXy"
   },
   "outputs": [],
   "source": [
    "def group_metric_as_df(name, group_metric_result):\n",
    "    a = pd.Series(group_metric_result.by_group)\n",
    "    a['overall'] = group_metric_result.overall\n",
    "    return pd.DataFrame({name: a})"
   ]
  },
  {
   "cell_type": "code",
   "execution_count": 7,
   "metadata": {
    "colab": {},
    "colab_type": "code",
    "id": "J6mK-f-Sqh47"
   },
   "outputs": [],
   "source": [
    "def plot_data(Xs, Ys, A):\n",
    "  print(Xs.shape, Ys.shape, A.shape)\n",
    "  labels = np.unique(A)\n",
    "  \n",
    "  for l in labels:\n",
    "    label_string = str(l.item())\n",
    "    mask =  A== l\n",
    "    plt.scatter(Xs[mask].mean(axis=1), Ys[mask], label=str(\"Label=\"+label_string))\n",
    "    plt.xlabel(\"GPA\")\n",
    "    plt.ylabel(\"Higher or not higher than 3.0 \")\n",
    "      \n",
    "  plt.legend()\n",
    "  plt.show()"
   ]
  },
  {
   "cell_type": "code",
   "execution_count": 8,
   "metadata": {
    "colab": {},
    "colab_type": "code",
    "id": "cbzY2p4OKTLX"
   },
   "outputs": [],
   "source": [
    "def compare_cdfs(data, A, num_bins=100):\n",
    "    cdfs = {}\n",
    "    assert len(np.unique(A)) == 2\n",
    "    \n",
    "    limits = ( min(data), max(data) )\n",
    "    s = 0.5 * (limits[1] - limits[0]) / (num_bins - 1)\n",
    "    limits = ( limits[0]-s, limits[1] + s)\n",
    "    \n",
    "    for a in np.unique(A):\n",
    "        subset = data[A==a]\n",
    "        \n",
    "        cdfs[a] = cumfreq(subset, numbins=num_bins, defaultreallimits=limits)\n",
    "        \n",
    "    lower_limits = [v.lowerlimit for _, v in cdfs.items()]\n",
    "    bin_sizes = [v.binsize for _,v in cdfs.items()]\n",
    "    actual_num_bins = [v.cumcount.size for _,v in cdfs.items()]\n",
    "    \n",
    "    assert len(np.unique(lower_limits)) == 1\n",
    "    assert len(np.unique(bin_sizes)) == 1\n",
    "    assert np.all([num_bins==v.cumcount.size for _,v in cdfs.items()])\n",
    "    \n",
    "    xs = lower_limits[0] + np.linspace(0, bin_sizes[0]*num_bins, num_bins)\n",
    "    \n",
    "    disparities = np.zeros(num_bins)\n",
    "    for i in range(num_bins):\n",
    "        cdf_values = np.clip([v.cumcount[i]/len(data[A==k]) for k,v in cdfs.items()],0,1)\n",
    "        disparities[i] = max(cdf_values)-min(cdf_values)  \n",
    "    \n",
    "    return xs, cdfs, disparities\n",
    "    \n",
    "    \n",
    "def plot_and_compare_cdfs(data, A, num_bins=100, loc='best'):\n",
    "    xs, cdfs, disparities = compare_cdfs(data, A, num_bins)\n",
    "    \n",
    "    for k, v in cdfs.items():\n",
    "        plt.plot(xs, v.cumcount/len(data[A==k]), label=k)\n",
    "    \n",
    "    assert disparities.argmax().size == 1\n",
    "    d_idx = disparities.argmax()\n",
    "    \n",
    "    xs_line = [xs[d_idx],xs[d_idx]]\n",
    "    counts = [v.cumcount[d_idx]/len(data[A==k]) for k, v in cdfs.items()]\n",
    "    ys_line = [min(counts), max(counts)]\n",
    "    \n",
    "    plt.plot(xs_line, ys_line, 'o--')\n",
    "    disparity_label = \"max disparity = {0:.3f}\\nat {1:0.3f}\".format(disparities[d_idx], xs[d_idx])\n",
    "    plt.text(xs[d_idx], 1, disparity_label, ha=\"right\", va=\"top\")\n",
    "    \n",
    "    plt.xlabel(data.name)\n",
    "    plt.ylabel(\"cumulative frequency\")\n",
    "    plt.legend(loc=loc)\n",
    "    plt.show()"
   ]
  },
  {
   "cell_type": "code",
   "execution_count": 9,
   "metadata": {
    "colab": {},
    "colab_type": "code",
    "id": "SqU-eF4uli5O"
   },
   "outputs": [],
   "source": [
    "# show_proportions is only a helper function for plotting\n",
    "def show_proportions(X, sensitive_features, y_pred, y=None, description=None, plot_row_index=1):\n",
    "    print(\"\\n\" + description)\n",
    "    plt.figure(plot_row_index)\n",
    "    plt.title(description)\n",
    "    plt.ylabel(\"P[3.0 GPA predicted | gender]\")\n",
    "    \n",
    "    indices = {}\n",
    "    positive_indices = {}\n",
    "    negative_indices = {}\n",
    "    recidivism_count = {}\n",
    "    recidivism_pct = {}\n",
    "    groups = np.unique(sensitive_features.values)\n",
    "    n_groups = len(groups)\n",
    "    color = plt.cm.rainbow(np.linspace(0,1,n_groups))\n",
    "    x_tick_labels_basic = []\n",
    "    x_tick_labels_by_label = []\n",
    "    for index, group in enumerate(groups):\n",
    "        indices[group] = sensitive_features.index[sensitive_features == group]\n",
    "        recidivism_count[group] = sum(y_pred[indices[group]])\n",
    "        recidivism_pct[group] = recidivism_count[group]/len(indices[group])    \n",
    "        plt.bar(index + 1, recidivism_pct[group], color=color[index])\n",
    "        x_tick_labels_basic.append(group)\n",
    "    \n",
    "        if y is not None:\n",
    "            positive_indices[group] = sensitive_features.index[(sensitive_features == group) & (y == 1)]\n",
    "            negative_indices[group] = sensitive_features.index[(sensitive_features == group) & (y == 0)]\n",
    "            prob_1 = sum(y_pred[positive_indices[group]])/len(positive_indices[group])\n",
    "            prob_0 = sum(y_pred[negative_indices[group]])/len(negative_indices[group])\n",
    "\n",
    "            plt.bar(n_groups + 1 + 2 * index, prob_1, color=color[index])\n",
    "            plt.bar(n_groups + 2 + 2 * index, prob_0, color=color[index])\n",
    "            x_tick_labels_by_label.extend([\"{} GPA > 3.0 \".format(group), \"{} GPA < 3.0\".format(group)])\n",
    "    \n",
    "    x_tick_labels = x_tick_labels_basic + x_tick_labels_by_label\n",
    "    plt.xticks(range(1, len(x_tick_labels)+1), x_tick_labels, rotation=45, horizontalalignment=\"right\")"
   ]
  },
  {
   "cell_type": "markdown",
   "metadata": {
    "colab_type": "text",
    "id": "f-XY8fVhqdl3"
   },
   "source": [
    "# Introduction"
   ]
  },
  {
   "cell_type": "markdown",
   "metadata": {
    "colab_type": "text",
    "id": "AANXjMdCqPRS"
   },
   "source": [
    "We consider the task of predicting student GPA during their first three semesters of university based on their entrance exams. The fairness across gender was explored in the paper [\"Preventing undesirable behavior of intelligent machines\" (Thomas et. al 2019) ](https://science.sciencemag.org/content/366/6468/999) We highlight some of the fairness considerations that come up in GPA prediction prediction by gender.\n",
    "\n",
    "The [dataset](https://dataverse.harvard.edu/dataset.xhtml?persistentId=doi:10.7910/DVN/O35FW8#) contains the performance of 43,303 students from Brazil on their nine entrance exams for the Federal University of Rio Grande do Sul and their GPA over their first three semesters of university. Each row contains anonymized data on one student's scores on nine exams (phsics, biology, history, second language, geography, literature, Portuguese essay, math, chemistry) along with a boolean indicating their gender (0 female, 1 male). The outcome is a numerical value representing their average GPA on a 4.0 scale during the first three months of university."
   ]
  },
  {
   "cell_type": "markdown",
   "metadata": {
    "colab_type": "text",
    "id": "7rbRGv7PyPHh"
   },
   "source": [
    "# Exploratory Data Analysis "
   ]
  },
  {
   "cell_type": "code",
   "execution_count": 10,
   "metadata": {
    "colab": {},
    "colab_type": "code",
    "id": "B6XIA0e3pTlq"
   },
   "outputs": [],
   "source": [
    "names = ['gender', 'physics','biology','history','second_language',\n",
    "'geography','literature','portuguese', 'math','chemistry', 'gpa']\n",
    "data = pd.read_csv(\"data.csv\", names=names)"
   ]
  },
  {
   "cell_type": "code",
   "execution_count": 11,
   "metadata": {
    "colab": {
     "base_uri": "https://localhost:8080/",
     "height": 173
    },
    "colab_type": "code",
    "id": "6u5A5XRVtbNa",
    "outputId": "db00da43-57bc-452c-c003-344943913e38"
   },
   "outputs": [
    {
     "data": {
      "text/html": [
       "<div>\n",
       "<style scoped>\n",
       "    .dataframe tbody tr th:only-of-type {\n",
       "        vertical-align: middle;\n",
       "    }\n",
       "\n",
       "    .dataframe tbody tr th {\n",
       "        vertical-align: top;\n",
       "    }\n",
       "\n",
       "    .dataframe thead th {\n",
       "        text-align: right;\n",
       "    }\n",
       "</style>\n",
       "<table border=\"1\" class=\"dataframe\">\n",
       "  <thead>\n",
       "    <tr style=\"text-align: right;\">\n",
       "      <th></th>\n",
       "      <th>count</th>\n",
       "      <th>(gpa, 25%)</th>\n",
       "      <th>(gpa, 50%)</th>\n",
       "      <th>(gpa, 75%)</th>\n",
       "    </tr>\n",
       "    <tr>\n",
       "      <th>gender</th>\n",
       "      <th></th>\n",
       "      <th></th>\n",
       "      <th></th>\n",
       "      <th></th>\n",
       "    </tr>\n",
       "  </thead>\n",
       "  <tbody>\n",
       "    <tr>\n",
       "      <th>female</th>\n",
       "      <td>20968.0</td>\n",
       "      <td>2.53333</td>\n",
       "      <td>3.11333</td>\n",
       "      <td>3.54667</td>\n",
       "    </tr>\n",
       "    <tr>\n",
       "      <th>male</th>\n",
       "      <td>22335.0</td>\n",
       "      <td>2.08333</td>\n",
       "      <td>2.71000</td>\n",
       "      <td>3.27667</td>\n",
       "    </tr>\n",
       "    <tr>\n",
       "      <th>Difference</th>\n",
       "      <td>1367.0</td>\n",
       "      <td>0.45000</td>\n",
       "      <td>0.40333</td>\n",
       "      <td>0.27000</td>\n",
       "    </tr>\n",
       "  </tbody>\n",
       "</table>\n",
       "</div>"
      ],
      "text/plain": [
       "              count  (gpa, 25%)  (gpa, 50%)  (gpa, 75%)\n",
       "gender                                                 \n",
       "female      20968.0     2.53333     3.11333     3.54667\n",
       "male        22335.0     2.08333     2.71000     3.27667\n",
       "Difference   1367.0     0.45000     0.40333     0.27000"
      ]
     },
     "metadata": {},
     "output_type": "display_data"
    }
   ],
   "source": [
    "all_train_grouped = data.groupby('gender')\n",
    "\n",
    "counts_by_gender = all_train_grouped[['gpa']].count().rename(\n",
    "    columns={'gpa': 'count'})\n",
    "\n",
    "quartiles_by_gender = all_train_grouped[['gpa']].quantile([.25, .50, .75]).rename(\n",
    "    index={0.25: \"25%\", 0.5: \"50%\", 0.75: \"75%\"}, level=1).unstack()\n",
    "\n",
    "summary_by_gender = pd.concat([counts_by_gender, quartiles_by_gender], axis=1)\n",
    "\n",
    "summary_by_gender.rename(index={0: \"female\", 1: \"male\"}, inplace=True)\n",
    "summary_by_gender.loc['Difference']=(summary_by_gender.iloc[0]-summary_by_gender.iloc[1]).abs()\n",
    "display(summary_by_gender)"
   ]
  },
  {
   "cell_type": "markdown",
   "metadata": {
    "colab_type": "text",
    "id": "Le8lXs_nsGCU"
   },
   "source": [
    "We see there is a similar distribution between male and female students in the data (There are 6.5% more males samples than females). \n",
    "\n",
    "We see that the GPA of female students is higher than male across all quartiles. The difference across the GPAs is smallest in the 75th percentile (0.27 difference). However the gap is much larger in the 50th and 25th percentile."
   ]
  },
  {
   "cell_type": "code",
   "execution_count": 12,
   "metadata": {
    "colab": {
     "base_uri": "https://localhost:8080/",
     "height": 317
    },
    "colab_type": "code",
    "id": "CEELFUcav1m3",
    "outputId": "731f7326-49c8-4443-bc84-20840f252b39"
   },
   "outputs": [
    {
     "data": {
      "image/png": "[encoded data removed]",
      "text/plain": [
       "<Figure size 432x288 with 2 Axes>"
      ]
     },
     "metadata": {
      "needs_background": "light"
     },
     "output_type": "display_data"
    }
   ],
   "source": [
    "gender_gpa = data[[\"gender\", \"gpa\"]].copy()\n",
    "gender_gpa.replace({'gender': {0:\"female\", 1:\"male\"}}, inplace=True)\n",
    "fig, axes = plt.subplots(nrows=1, ncols=2, sharex=True, sharey=True)\n",
    "for i in range(len(axes)):\n",
    "  axes[i].set(xlabel='GPA')\n",
    "  if i==0:\n",
    "    axes[i].set(ylabel='Number of students')\n",
    "gender_gpa.hist(by='gender', column='gpa', ax = axes)\n",
    "# Add title and axis names\n",
    "plt.suptitle('GPA Distribution by Gender', x=0.5, y=1.05, ha='center', fontsize='xx-large')\n",
    "plt.show()"
   ]
  },
  {
   "cell_type": "markdown",
   "metadata": {
    "colab_type": "text",
    "id": "ZGlOV4lKvtIW"
   },
   "source": [
    "We see that the distribution of GPAs for females skews much higher for females than males. Females have fewer students with lower GPAs and more students with GPAs in the 3-4 range. Male students have on average lower GPAs with an equal number of students in the 2-3.5 range. \n"
   ]
  },
  {
   "cell_type": "code",
   "execution_count": 13,
   "metadata": {
    "colab": {
     "base_uri": "https://localhost:8080/",
     "height": 354
    },
    "colab_type": "code",
    "id": "RtOTbxLYGYOn",
    "outputId": "4a778e49-397a-47d0-88f9-948334c7bc92"
   },
   "outputs": [
    {
     "name": "stdout",
     "output_type": "stream",
     "text": [
      "True Percent Difference of Female GPA over Male GPA\n",
      "13.58 %\n"
     ]
    },
    {
     "data": {
      "image/png": "[encoded data removed]",
      "text/plain": [
       "<Figure size 432x288 with 1 Axes>"
      ]
     },
     "metadata": {
      "needs_background": "light"
     },
     "output_type": "display_data"
    }
   ],
   "source": [
    "all_train_grouped = data.groupby('gender').mean()\n",
    "all_train_grouped.rename(index={0: \"female\", 1: \"male\"}, inplace=True)\n",
    "all_train_grouped.gpa.plot(kind='bar', title='Mean GPA per gender')\n",
    "pct_greater = (all_train_grouped.gpa.loc['female'] - all_train_grouped.gpa.loc['male'])/ all_train_grouped.gpa.loc['male']\n",
    "print('True Percent Difference of Female GPA over Male GPA')\n",
    "print(round(pct_greater*100,2), '%')"
   ]
  },
  {
   "cell_type": "markdown",
   "metadata": {
    "colab_type": "text",
    "id": "hxsJIC5-NB2u"
   },
   "source": [
    "We see that the Mean GPA across all samples is higher for females by 13.58%."
   ]
  },
  {
   "cell_type": "code",
   "execution_count": 15,
   "metadata": {
    "colab": {
     "base_uri": "https://localhost:8080/",
     "height": 664
    },
    "colab_type": "code",
    "id": "Sk5feqTp9ZPR",
    "outputId": "b3448ff6-f922-4442-e9ec-7c43be7b122c"
   },
   "outputs": [
    {
     "data": {
      "text/html": [
       "<div>\n",
       "<style scoped>\n",
       "    .dataframe tbody tr th:only-of-type {\n",
       "        vertical-align: middle;\n",
       "    }\n",
       "\n",
       "    .dataframe tbody tr th {\n",
       "        vertical-align: top;\n",
       "    }\n",
       "\n",
       "    .dataframe thead th {\n",
       "        text-align: right;\n",
       "    }\n",
       "</style>\n",
       "<table border=\"1\" class=\"dataframe\">\n",
       "  <thead>\n",
       "    <tr style=\"text-align: right;\">\n",
       "      <th></th>\n",
       "      <th>physics</th>\n",
       "      <th>biology</th>\n",
       "      <th>history</th>\n",
       "      <th>second_language</th>\n",
       "      <th>geography</th>\n",
       "      <th>literature</th>\n",
       "      <th>portuguese</th>\n",
       "      <th>math</th>\n",
       "      <th>chemistry</th>\n",
       "      <th>gpa</th>\n",
       "    </tr>\n",
       "    <tr>\n",
       "      <th>gender</th>\n",
       "      <th></th>\n",
       "      <th></th>\n",
       "      <th></th>\n",
       "      <th></th>\n",
       "      <th></th>\n",
       "      <th></th>\n",
       "      <th></th>\n",
       "      <th></th>\n",
       "      <th></th>\n",
       "      <th></th>\n",
       "    </tr>\n",
       "  </thead>\n",
       "  <tbody>\n",
       "    <tr>\n",
       "      <th>female</th>\n",
       "      <td>551.670616</td>\n",
       "      <td>565.289221</td>\n",
       "      <td>566.298738</td>\n",
       "      <td>571.287158</td>\n",
       "      <td>555.585070</td>\n",
       "      <td>595.972841</td>\n",
       "      <td>557.790898</td>\n",
       "      <td>550.858560</td>\n",
       "      <td>558.348288</td>\n",
       "      <td>2.968778</td>\n",
       "    </tr>\n",
       "    <tr>\n",
       "      <th>male</th>\n",
       "      <td>599.078144</td>\n",
       "      <td>571.824748</td>\n",
       "      <td>594.465843</td>\n",
       "      <td>576.533323</td>\n",
       "      <td>592.246688</td>\n",
       "      <td>571.406824</td>\n",
       "      <td>544.704249</td>\n",
       "      <td>605.797135</td>\n",
       "      <td>584.256591</td>\n",
       "      <td>2.613880</td>\n",
       "    </tr>\n",
       "  </tbody>\n",
       "</table>\n",
       "</div>"
      ],
      "text/plain": [
       "           physics     biology     history  second_language   geography  \\\n",
       "gender                                                                    \n",
       "female  551.670616  565.289221  566.298738       571.287158  555.585070   \n",
       "male    599.078144  571.824748  594.465843       576.533323  592.246688   \n",
       "\n",
       "        literature  portuguese        math   chemistry       gpa  \n",
       "gender                                                            \n",
       "female  595.972841  557.790898  550.858560  558.348288  2.968778  \n",
       "male    571.406824  544.704249  605.797135  584.256591  2.613880  "
      ]
     },
     "metadata": {},
     "output_type": "display_data"
    },
    {
     "data": {
      "text/plain": [
       "<matplotlib.axes._subplots.AxesSubplot at 0x11f4b8390>"
      ]
     },
     "execution_count": 15,
     "metadata": {},
     "output_type": "execute_result"
    },
    {
     "data": {
      "image/png": "[encoded data removed]",
      "text/plain": [
       "<Figure size 936x504 with 1 Axes>"
      ]
     },
     "metadata": {
      "needs_background": "light"
     },
     "output_type": "display_data"
    }
   ],
   "source": [
    "display(all_train_grouped)\n",
    "test_scores_grouped = all_train_grouped.transpose().iloc[0:9,]\n",
    "test_scores_grouped.plot(kind='bar', figsize=(13,7), title='Mean exam score per gender')"
   ]
  },
  {
   "cell_type": "markdown",
   "metadata": {
    "colab_type": "text",
    "id": "Q9hUQqdc2Uko"
   },
   "source": [
    "# Model Performance Comparisons for ML Algos with & without Fairness Constraints"
   ]
  },
  {
   "cell_type": "markdown",
   "metadata": {
    "colab_type": "text",
    "id": "vyfivMw71RPu"
   },
   "source": [
    "## Mean GPA Prediction Error Comparisons "
   ]
  },
  {
   "cell_type": "markdown",
   "metadata": {
    "colab_type": "text",
    "id": "T09vVukJ52z1"
   },
   "source": [
    "We now explore the level of fairness of three standard ML algorithms: Least Squares, Random Forest, Multi-layer Perceptron regressors. \n",
    "\n",
    "For each of these, the pipeline will consist of:\n",
    "- Remove the protected attribute from the predictors. This is an essential step that allows to analyze whether the algorithm has an inner bias toward a specific group, female or male in our study.\n",
    "- Split the dataset in train-test in a 4:1 ratio, train the model on the train data and predict on the test data."
   ]
  },
  {
   "cell_type": "markdown",
   "metadata": {
    "colab_type": "text",
    "id": "hik1H12VmcQn"
   },
   "source": [
    "Specifically, we'll have the following data subgroups:\n",
    "\n",
    "*   **X_train, X_test**: features describing the training and test data; the scores on 9 entrance exams\n",
    "*   **A_train, A_test**:  gender of each student (female or male)\n",
    "*   **y_train, y_test**: labels of the training and test data; the labels are numerical on the scale [0,4.0] representing the GPA during the first three months of University\n",
    "*   **y_train_bool, y_test_bool**: binary labels of the training and test data; the labels are boolean; 1 if gpa > 3.0; 0 otherwise \n",
    "\n",
    "\n",
    "\n",
    "\n",
    "\n",
    "\n",
    "\n"
   ]
  },
  {
   "cell_type": "code",
   "execution_count": 528,
   "metadata": {
    "colab": {},
    "colab_type": "code",
    "id": "xYUOl1oyzXrp"
   },
   "outputs": [],
   "source": [
    "X = data.iloc[:,:-1]\n",
    "y = data.gpa\n",
    "X_train, X_test, y_train, y_test = train_test_split(X, y, test_size=0.2,\n",
    "                                                    random_state=42)\n",
    "A_train = X_train.gender\n",
    "A_test = X_test.gender\n",
    "del X_train['gender']\n",
    "del X_test['gender']\n",
    "\n",
    "y_train_bool = y_train > 3.0\n",
    "y_test_bool = y_test > 3.0\n",
    "\n",
    "X_train.reset_index(inplace = True, drop = True)\n",
    "y_train.reset_index(inplace = True, drop = True)\n",
    "y_train_bool.reset_index(inplace = True, drop = True)\n",
    "A_train.reset_index(inplace = True, drop = True)\n",
    "X_test.reset_index(inplace = True, drop = True)\n",
    "y_test.reset_index(inplace = True, drop = True)\n",
    "A_test.reset_index(inplace = True, drop = True)\n",
    "y_test_bool.reset_index(inplace = True, drop = True)"
   ]
  },
  {
   "cell_type": "code",
   "execution_count": 15,
   "metadata": {
    "colab": {},
    "colab_type": "code",
    "id": "cVnJ7XwK2PEM"
   },
   "outputs": [],
   "source": [
    "# Least Squares\n",
    "lr = LinearRegression().fit(X_train, y_train)\n",
    "lr_pred = lr.predict(X_test)"
   ]
  },
  {
   "cell_type": "markdown",
   "metadata": {
    "colab_type": "text",
    "id": "rhZ04J02ne_A"
   },
   "source": [
    "A multilayer perceptron (MLP) is a class of feedforward artificial neural network (ANN). Except for the input nodes, each node is a neuron that uses a nonlinear activation function. MLP utilizes a supervised learning technique called backpropagation for training."
   ]
  },
  {
   "cell_type": "code",
   "execution_count": 16,
   "metadata": {
    "colab": {},
    "colab_type": "code",
    "id": "RXenxHNHE6GC"
   },
   "outputs": [],
   "source": [
    "# Multi-layer Perceptron\n",
    "mlp = MLPRegressor(early_stopping=True,\n",
    "                   activation=\"relu\",\n",
    "                   random_state=42).fit(X_train, y_train)    \n",
    "mlp_pred = mlp.predict(X_test)"
   ]
  },
  {
   "cell_type": "markdown",
   "metadata": {
    "colab_type": "text",
    "id": "LLTCBTIzlWuD"
   },
   "source": [
    "A random forest is a meta estimator that fits a number of classifying decision trees on various sub-samples of the dataset and uses averaging to improve the predictive accuracy and control over-fitting. The sub-sample size is always the same as the original input sample size but the samples are drawn with replacement."
   ]
  },
  {
   "cell_type": "code",
   "execution_count": 17,
   "metadata": {
    "colab": {},
    "colab_type": "code",
    "id": "1Fah0qOG2PYx"
   },
   "outputs": [],
   "source": [
    "# Random Forest\n",
    "rf = RandomForestRegressor(n_estimators=10, max_depth=5).fit(X_train, y_train)\n",
    "rf_pred = rf.predict(X_test)"
   ]
  },
  {
   "cell_type": "markdown",
   "metadata": {
    "colab_type": "text",
    "id": "dop0O2za4qFo"
   },
   "source": [
    "The next step consists in analyzing whether any of these alogirthms shows a consistent bias toward one gender.\n",
    "\n",
    "To do that, we divided the prediction output in two groups, female and male, and then computed the **mean prediction error** for each group.\n",
    "\n",
    "- Compute error as: `y_pred - y_observed`\n",
    "- Compute mean error grouped by gender"
   ]
  },
  {
   "cell_type": "code",
   "execution_count": 20,
   "metadata": {
    "colab": {
     "base_uri": "https://localhost:8080/",
     "height": 487
    },
    "colab_type": "code",
    "id": "Ze9VqeDQ3IyG",
    "outputId": "17f1bed2-01f4-4b6a-b2b8-e736491aa27f"
   },
   "outputs": [
    {
     "data": {
      "text/plain": [
       "[Text(0, 0.5, 'Prediction Error'), Text(0.5, 0, 'Regression Algorithm')]"
      ]
     },
     "execution_count": 20,
     "metadata": {},
     "output_type": "execute_result"
    },
    {
     "data": {
      "image/png": "[encoded data removed]",
      "text/plain": [
       "<Figure size 792x504 with 1 Axes>"
      ]
     },
     "metadata": {
      "needs_background": "light"
     },
     "output_type": "display_data"
    }
   ],
   "source": [
    "error_df = pd.DataFrame(A_test)\n",
    "gender_map = {0: 'female',\n",
    "              1: 'male'}\n",
    "error_df['gender'] = error_df.gender.map(gender_map)\n",
    "error_df['lr_pred'] = lr_pred - y_test\n",
    "error_df['mlp_pred'] = mlp_pred - y_test\n",
    "error_df['rf_pred'] = rf_pred - y_test\n",
    "fig = error_df.groupby('gender').mean().rename(columns={'lr_pred':'LR',\n",
    "                                                  'mlp_pred': 'ANN',\n",
    "                                                  'rf_pred': 'RF'}\n",
    "                                         ).T.plot(kind='bar',\n",
    "                                                  figsize=(11,7),\n",
    "                                                  title='Mean prediction error by gender',\n",
    "                                                  colormap='binary',\n",
    "                                                  linewidth=1,\n",
    "                                                  edgecolor='black')\n",
    "fig.set(xlabel=\"Regression Algorithm\", ylabel=\"Prediction Error\")"
   ]
  },
  {
   "cell_type": "markdown",
   "metadata": {
    "colab_type": "text",
    "id": "Y46Fvsn_ogMh"
   },
   "source": [
    "The user-selected definition of undesirable behavior corresponds to large differences in mean prediction errors (mean predicted GPA minus mean observed GPA) for applicants of **different genders**. \n",
    "\n",
    "This plot shows the mean prediction errors for male and female students when using each regression algorithm.\n",
    "\n",
    "All shown standard ML methods tend to notably overpredict the performance of male students and underpredict the performance of female students"
   ]
  },
  {
   "cell_type": "markdown",
   "metadata": {
    "colab_type": "text",
    "id": "ufm79p_93E51"
   },
   "source": [
    "## Mean Squared Error and Accuracy Rate Using GridSearch and Exponentiated Gradient "
   ]
  },
  {
   "cell_type": "code",
   "execution_count": 264,
   "metadata": {},
   "outputs": [],
   "source": [
    "import random\n",
    "from sklearn.preprocessing import MinMaxScaler\n",
    "import sklearn.metrics as skm\n",
    "from fairlearn.metrics import group_mean_prediction, group_mean_squared_error, group_mean_overprediction\n",
    "import fairlearn.metrics as flm "
   ]
  },
  {
   "cell_type": "markdown",
   "metadata": {},
   "source": [
    "### Data Processing"
   ]
  },
  {
   "cell_type": "code",
   "execution_count": 265,
   "metadata": {},
   "outputs": [],
   "source": [
    "def prob_decision(p):\n",
    "    return 1*(random.random() < p)"
   ]
  },
  {
   "cell_type": "code",
   "execution_count": 266,
   "metadata": {},
   "outputs": [],
   "source": [
    "min_max_scaler = MinMaxScaler()                                                  \n",
    "y_train_rescaled = min_max_scaler.fit_transform(np.array(y_train).reshape(-1, 1))\n",
    "y_test_rescaled = min_max_scaler.fit_transform(np.array(y_test).reshape(-1, 1))"
   ]
  },
  {
   "cell_type": "code",
   "execution_count": 267,
   "metadata": {},
   "outputs": [],
   "source": [
    "#  set yi=0 with probability zi --> if zi > 0.5 then yi = 0 <-> if zi < 0.5 then yi = 1\n",
    "y_train_scaled = pd.Series(y_train_rescaled.reshape(-1))\n",
    "y_train_binary = y_train_scaled.apply(prob_decision)"
   ]
  },
  {
   "cell_type": "markdown",
   "metadata": {},
   "source": [
    "### 1. Baseline: Logistic Regression Model without Fairness Constraints"
   ]
  },
  {
   "cell_type": "code",
   "execution_count": 300,
   "metadata": {},
   "outputs": [],
   "source": [
    "unmitigated_predictor_rescaled = LogisticRegression(solver='liblinear', fit_intercept=True)\n",
    "unmitigated_predictor_rescaled.fit(X_train, y_train_binary)\n",
    "scores_unmitigated_rescaled = pd.Series(unmitigated_predictor_rescaled.predict_proba(X_test)[:,1], name=\"score_unmitigated_rescaled\")\n"
   ]
  },
  {
   "cell_type": "code",
   "execution_count": 301,
   "metadata": {},
   "outputs": [
    {
     "data": {
      "text/html": [
       "<div>\n",
       "<style scoped>\n",
       "    .dataframe tbody tr th:only-of-type {\n",
       "        vertical-align: middle;\n",
       "    }\n",
       "\n",
       "    .dataframe tbody tr th {\n",
       "        vertical-align: top;\n",
       "    }\n",
       "\n",
       "    .dataframe thead th {\n",
       "        text-align: right;\n",
       "    }\n",
       "</style>\n",
       "<table border=\"1\" class=\"dataframe\">\n",
       "  <thead>\n",
       "    <tr style=\"text-align: right;\">\n",
       "      <th></th>\n",
       "      <th>mse_unmitigated_rescaled</th>\n",
       "    </tr>\n",
       "  </thead>\n",
       "  <tbody>\n",
       "    <tr>\n",
       "      <th>female</th>\n",
       "      <td>0.034022</td>\n",
       "    </tr>\n",
       "    <tr>\n",
       "      <th>male</th>\n",
       "      <td>0.043226</td>\n",
       "    </tr>\n",
       "    <tr>\n",
       "      <th>overall</th>\n",
       "      <td>0.038719</td>\n",
       "    </tr>\n",
       "  </tbody>\n",
       "</table>\n",
       "</div>"
      ],
      "text/plain": [
       "         mse_unmitigated_rescaled\n",
       "female                   0.034022\n",
       "male                     0.043226\n",
       "overall                  0.038719"
      ]
     },
     "metadata": {},
     "output_type": "display_data"
    }
   ],
   "source": [
    "mse_unmitigated = group_metric_as_df(\"mse_unmitigated_rescaled\", group_mean_squared_error(y_test_rescaled, scores_unmitigated_rescaled, A_test))\n",
    "mse_unmitigated.rename(index={0: \"female\", 1: \"male\"}, inplace=True)\n",
    "display(mse_unmitigated)"
   ]
  },
  {
   "cell_type": "code",
   "execution_count": 302,
   "metadata": {},
   "outputs": [
    {
     "data": {
      "text/html": [
       "<div>\n",
       "<style scoped>\n",
       "    .dataframe tbody tr th:only-of-type {\n",
       "        vertical-align: middle;\n",
       "    }\n",
       "\n",
       "    .dataframe tbody tr th {\n",
       "        vertical-align: top;\n",
       "    }\n",
       "\n",
       "    .dataframe thead th {\n",
       "        text-align: right;\n",
       "    }\n",
       "</style>\n",
       "<table border=\"1\" class=\"dataframe\">\n",
       "  <thead>\n",
       "    <tr style=\"text-align: right;\">\n",
       "      <th></th>\n",
       "      <th>mse_unmitigated_overprediction</th>\n",
       "    </tr>\n",
       "  </thead>\n",
       "  <tbody>\n",
       "    <tr>\n",
       "      <th>female</th>\n",
       "      <td>0.060785</td>\n",
       "    </tr>\n",
       "    <tr>\n",
       "      <th>male</th>\n",
       "      <td>0.102072</td>\n",
       "    </tr>\n",
       "    <tr>\n",
       "      <th>overall</th>\n",
       "      <td>0.081855</td>\n",
       "    </tr>\n",
       "  </tbody>\n",
       "</table>\n",
       "</div>"
      ],
      "text/plain": [
       "         mse_unmitigated_overprediction\n",
       "female                         0.060785\n",
       "male                           0.102072\n",
       "overall                        0.081855"
      ]
     },
     "metadata": {},
     "output_type": "display_data"
    }
   ],
   "source": [
    "mse_unmitigated_overprediction = group_metric_as_df(\"mse_unmitigated_overprediction\", group_mean_overprediction(y_test_rescaled, scores_unmitigated_rescaled, A_test))\n",
    "mse_unmitigated_overprediction.rename(index={0: \"female\", 1: \"male\"}, inplace=True)\n",
    "display(mse_unmitigated_overprediction)"
   ]
  },
  {
   "cell_type": "code",
   "execution_count": 303,
   "metadata": {},
   "outputs": [
    {
     "data": {
      "text/html": [
       "<div>\n",
       "<style scoped>\n",
       "    .dataframe tbody tr th:only-of-type {\n",
       "        vertical-align: middle;\n",
       "    }\n",
       "\n",
       "    .dataframe tbody tr th {\n",
       "        vertical-align: top;\n",
       "    }\n",
       "\n",
       "    .dataframe thead th {\n",
       "        text-align: right;\n",
       "    }\n",
       "</style>\n",
       "<table border=\"1\" class=\"dataframe\">\n",
       "  <thead>\n",
       "    <tr style=\"text-align: right;\">\n",
       "      <th></th>\n",
       "      <th>mse_unmitigated_underprediction</th>\n",
       "    </tr>\n",
       "  </thead>\n",
       "  <tbody>\n",
       "    <tr>\n",
       "      <th>female</th>\n",
       "      <td>0.088945</td>\n",
       "    </tr>\n",
       "    <tr>\n",
       "      <th>male</th>\n",
       "      <td>0.061822</td>\n",
       "    </tr>\n",
       "    <tr>\n",
       "      <th>overall</th>\n",
       "      <td>0.075103</td>\n",
       "    </tr>\n",
       "  </tbody>\n",
       "</table>\n",
       "</div>"
      ],
      "text/plain": [
       "         mse_unmitigated_underprediction\n",
       "female                          0.088945\n",
       "male                            0.061822\n",
       "overall                         0.075103"
      ]
     },
     "metadata": {},
     "output_type": "display_data"
    }
   ],
   "source": [
    "mse_unmitigated_underprediction = group_metric_as_df(\"mse_unmitigated_underprediction\", group_mean_underprediction(y_test_rescaled, scores_unmitigated_rescaled, A_test))\n",
    "mse_unmitigated_underprediction.rename(index={0: \"female\", 1: \"male\"}, inplace=True)\n",
    "display(mse_unmitigated_underprediction)"
   ]
  },
  {
   "cell_type": "markdown",
   "metadata": {},
   "source": [
    "### 2. GridSearch: Logistic Regression Model with Equalized Odds as Fairness Constraint "
   ]
  },
  {
   "cell_type": "code",
   "execution_count": 272,
   "metadata": {},
   "outputs": [],
   "source": [
    "sweep_gs_rescaled = GridSearch(LogisticRegression(solver='liblinear', fit_intercept=True),\n",
    "                   constraints=EqualizedOdds(),\n",
    "                   grid_size=50,\n",
    "                   grid_limit=10)\n",
    "sweep_gs_rescaled.fit(X_train, y_train_binary, sensitive_features=A_train)\n",
    "best_results_gs_rescaled = sweep_gs_rescaled.predict_proba(X_test)"
   ]
  },
  {
   "cell_type": "code",
   "execution_count": 304,
   "metadata": {},
   "outputs": [],
   "source": [
    "scores_best_gs_rescaled = pd.Series(best_results_gs_rescaled[:,1], name=\"score_best_gs_rescaled\")"
   ]
  },
  {
   "cell_type": "code",
   "execution_count": 305,
   "metadata": {},
   "outputs": [
    {
     "data": {
      "text/html": [
       "<div>\n",
       "<style scoped>\n",
       "    .dataframe tbody tr th:only-of-type {\n",
       "        vertical-align: middle;\n",
       "    }\n",
       "\n",
       "    .dataframe tbody tr th {\n",
       "        vertical-align: top;\n",
       "    }\n",
       "\n",
       "    .dataframe thead th {\n",
       "        text-align: right;\n",
       "    }\n",
       "</style>\n",
       "<table border=\"1\" class=\"dataframe\">\n",
       "  <thead>\n",
       "    <tr style=\"text-align: right;\">\n",
       "      <th></th>\n",
       "      <th>mse_gridsearch_eo</th>\n",
       "    </tr>\n",
       "  </thead>\n",
       "  <tbody>\n",
       "    <tr>\n",
       "      <th>female</th>\n",
       "      <td>0.034022</td>\n",
       "    </tr>\n",
       "    <tr>\n",
       "      <th>male</th>\n",
       "      <td>0.043226</td>\n",
       "    </tr>\n",
       "    <tr>\n",
       "      <th>overall</th>\n",
       "      <td>0.038719</td>\n",
       "    </tr>\n",
       "  </tbody>\n",
       "</table>\n",
       "</div>"
      ],
      "text/plain": [
       "         mse_gridsearch_eo\n",
       "female            0.034022\n",
       "male              0.043226\n",
       "overall           0.038719"
      ]
     },
     "metadata": {},
     "output_type": "display_data"
    }
   ],
   "source": [
    "mse_gridsearch = group_metric_as_df(\"mse_gridsearch_eo\", group_mean_squared_error(y_test_rescaled, scores_best_gs_rescaled, A_test))\n",
    "mse_gridsearch.rename(index={0: \"female\", 1: \"male\"}, inplace=True)\n",
    "display(mse_gridsearch)"
   ]
  },
  {
   "cell_type": "code",
   "execution_count": 306,
   "metadata": {},
   "outputs": [
    {
     "data": {
      "text/html": [
       "<div>\n",
       "<style scoped>\n",
       "    .dataframe tbody tr th:only-of-type {\n",
       "        vertical-align: middle;\n",
       "    }\n",
       "\n",
       "    .dataframe tbody tr th {\n",
       "        vertical-align: top;\n",
       "    }\n",
       "\n",
       "    .dataframe thead th {\n",
       "        text-align: right;\n",
       "    }\n",
       "</style>\n",
       "<table border=\"1\" class=\"dataframe\">\n",
       "  <thead>\n",
       "    <tr style=\"text-align: right;\">\n",
       "      <th></th>\n",
       "      <th>mse_gridsearch_overprediction</th>\n",
       "    </tr>\n",
       "  </thead>\n",
       "  <tbody>\n",
       "    <tr>\n",
       "      <th>female</th>\n",
       "      <td>0.060986</td>\n",
       "    </tr>\n",
       "    <tr>\n",
       "      <th>male</th>\n",
       "      <td>0.102777</td>\n",
       "    </tr>\n",
       "    <tr>\n",
       "      <th>overall</th>\n",
       "      <td>0.082313</td>\n",
       "    </tr>\n",
       "  </tbody>\n",
       "</table>\n",
       "</div>"
      ],
      "text/plain": [
       "         mse_gridsearch_overprediction\n",
       "female                        0.060986\n",
       "male                          0.102777\n",
       "overall                       0.082313"
      ]
     },
     "metadata": {},
     "output_type": "display_data"
    }
   ],
   "source": [
    "mse_gridsearch_overprediction = group_metric_as_df(\"mse_gridsearch_overprediction\", group_mean_overprediction(y_test_rescaled, scores_best_dp_rescaled, A_test))\n",
    "mse_gridsearch_overprediction.rename(index={0: \"female\", 1: \"male\"}, inplace=True)\n",
    "display(mse_gridsearch_overprediction)"
   ]
  },
  {
   "cell_type": "code",
   "execution_count": 422,
   "metadata": {},
   "outputs": [
    {
     "data": {
      "text/html": [
       "<div>\n",
       "<style scoped>\n",
       "    .dataframe tbody tr th:only-of-type {\n",
       "        vertical-align: middle;\n",
       "    }\n",
       "\n",
       "    .dataframe tbody tr th {\n",
       "        vertical-align: top;\n",
       "    }\n",
       "\n",
       "    .dataframe thead th {\n",
       "        text-align: right;\n",
       "    }\n",
       "</style>\n",
       "<table border=\"1\" class=\"dataframe\">\n",
       "  <thead>\n",
       "    <tr style=\"text-align: right;\">\n",
       "      <th></th>\n",
       "      <th>mse_gridsearch_underprediction</th>\n",
       "    </tr>\n",
       "  </thead>\n",
       "  <tbody>\n",
       "    <tr>\n",
       "      <th>female</th>\n",
       "      <td>0.087966</td>\n",
       "    </tr>\n",
       "    <tr>\n",
       "      <th>male</th>\n",
       "      <td>0.061215</td>\n",
       "    </tr>\n",
       "    <tr>\n",
       "      <th>overall</th>\n",
       "      <td>0.074314</td>\n",
       "    </tr>\n",
       "  </tbody>\n",
       "</table>\n",
       "</div>"
      ],
      "text/plain": [
       "         mse_gridsearch_underprediction\n",
       "female                         0.087966\n",
       "male                           0.061215\n",
       "overall                        0.074314"
      ]
     },
     "metadata": {},
     "output_type": "display_data"
    }
   ],
   "source": [
    "mse_gridsearch_underprediction = group_metric_as_df(\"mse_gridsearch_underprediction\", group_mean_underprediction(y_test_rescaled, scores_best_dp_rescaled, A_test))\n",
    "mse_gridsearch_underprediction.rename(index={0: \"female\", 1: \"male\"}, inplace=True)\n",
    "display(mse_gridsearch_underprediction)"
   ]
  },
  {
   "cell_type": "code",
   "execution_count": 295,
   "metadata": {},
   "outputs": [],
   "source": [
    "### TEST WITH DIFFERENT GRID SIZES\n",
    "# sweep_gs_test = GridSearch(LogisticRegression(solver='liblinear', fit_intercept=True),\n",
    "#                    constraints=EqualizedOdds(),\n",
    "#                    grid_size=100,\n",
    "#                    grid_limit=10)\n",
    "# sweep_gs_test.fit(X_train, y_train_binary, sensitive_features=A_train)"
   ]
  },
  {
   "cell_type": "markdown",
   "metadata": {},
   "source": [
    "### 3. Exponentiated Gradient: Logistic Regression Model with Equalized Odds as Fairness Constraint "
   ]
  },
  {
   "cell_type": "code",
   "execution_count": 376,
   "metadata": {},
   "outputs": [],
   "source": [
    "# EO without balanced dataset \n",
    "\n",
    "# tried: eps=0.01, 0.05 and nu 1e-6, 1e-5;\n",
    "expgrad_eo = ExponentiatedGradient(\n",
    "    LogisticRegression(solver='liblinear', fit_intercept=True),\n",
    "    constraints=EqualizedOdds(),\n",
    "    eps=0.01,\n",
    "    nu=1e-6)\n",
    "expgrad_eo.fit(\n",
    "    X_train,\n",
    "    y_train_binary,\n",
    "    sensitive_features=A_train)"
   ]
  },
  {
   "cell_type": "code",
   "execution_count": 377,
   "metadata": {},
   "outputs": [],
   "source": [
    "scores_expgrad_eo = pd.Series(expgrad_eo.predict(X_test), name=\"scores_expgrad_eo_rescaled\")"
   ]
  },
  {
   "cell_type": "code",
   "execution_count": 378,
   "metadata": {},
   "outputs": [],
   "source": [
    "for score in scores_expgrad_eo:\n",
    "    if score!= 1:\n",
    "        print(score)"
   ]
  },
  {
   "cell_type": "code",
   "execution_count": 379,
   "metadata": {},
   "outputs": [
    {
     "data": {
      "text/html": [
       "<div>\n",
       "<style scoped>\n",
       "    .dataframe tbody tr th:only-of-type {\n",
       "        vertical-align: middle;\n",
       "    }\n",
       "\n",
       "    .dataframe tbody tr th {\n",
       "        vertical-align: top;\n",
       "    }\n",
       "\n",
       "    .dataframe thead th {\n",
       "        text-align: right;\n",
       "    }\n",
       "</style>\n",
       "<table border=\"1\" class=\"dataframe\">\n",
       "  <thead>\n",
       "    <tr style=\"text-align: right;\">\n",
       "      <th></th>\n",
       "      <th>mse_expgrad_eo_overprediction</th>\n",
       "    </tr>\n",
       "  </thead>\n",
       "  <tbody>\n",
       "    <tr>\n",
       "      <th>female</th>\n",
       "      <td>0.257064</td>\n",
       "    </tr>\n",
       "    <tr>\n",
       "      <th>male</th>\n",
       "      <td>0.349142</td>\n",
       "    </tr>\n",
       "    <tr>\n",
       "      <th>overall</th>\n",
       "      <td>0.304055</td>\n",
       "    </tr>\n",
       "  </tbody>\n",
       "</table>\n",
       "</div>"
      ],
      "text/plain": [
       "         mse_expgrad_eo_overprediction\n",
       "female                        0.257064\n",
       "male                          0.349142\n",
       "overall                       0.304055"
      ]
     },
     "metadata": {},
     "output_type": "display_data"
    }
   ],
   "source": [
    "mse_expgrad_overprediction = group_metric_as_df(\"mse_expgrad_eo_overprediction\", group_mean_overprediction(y_test_rescaled, scores_expgrad_eo, A_test))\n",
    "mse_expgrad_overprediction.rename(index={0: \"female\", 1: \"male\"}, inplace=True)\n",
    "display(mse_expgrad_overprediction)"
   ]
  },
  {
   "cell_type": "code",
   "execution_count": 380,
   "metadata": {
    "pycharm": {
     "name": "#%%\n"
    }
   },
   "outputs": [
    {
     "data": {
      "text/html": [
       "<div>\n",
       "<style scoped>\n",
       "    .dataframe tbody tr th:only-of-type {\n",
       "        vertical-align: middle;\n",
       "    }\n",
       "\n",
       "    .dataframe tbody tr th {\n",
       "        vertical-align: top;\n",
       "    }\n",
       "\n",
       "    .dataframe thead th {\n",
       "        text-align: right;\n",
       "    }\n",
       "</style>\n",
       "<table border=\"1\" class=\"dataframe\">\n",
       "  <thead>\n",
       "    <tr style=\"text-align: right;\">\n",
       "      <th></th>\n",
       "      <th>mse_expgrad_eo_underprediction</th>\n",
       "    </tr>\n",
       "  </thead>\n",
       "  <tbody>\n",
       "    <tr>\n",
       "      <th>female</th>\n",
       "      <td>-0.0</td>\n",
       "    </tr>\n",
       "    <tr>\n",
       "      <th>male</th>\n",
       "      <td>-0.0</td>\n",
       "    </tr>\n",
       "    <tr>\n",
       "      <th>overall</th>\n",
       "      <td>-0.0</td>\n",
       "    </tr>\n",
       "  </tbody>\n",
       "</table>\n",
       "</div>"
      ],
      "text/plain": [
       "         mse_expgrad_eo_underprediction\n",
       "female                             -0.0\n",
       "male                               -0.0\n",
       "overall                            -0.0"
      ]
     },
     "metadata": {},
     "output_type": "display_data"
    }
   ],
   "source": [
    "mse_expgrad_underprediction = group_metric_as_df(\"mse_expgrad_eo_underprediction\", group_mean_underprediction(y_test_rescaled, scores_expgrad_eo, A_test))\n",
    "mse_expgrad_underprediction.rename(index={0: \"female\", 1: \"male\"}, inplace=True)\n",
    "display(mse_expgrad_underprediction)"
   ]
  },
  {
   "cell_type": "code",
   "execution_count": 329,
   "metadata": {
    "pycharm": {
     "name": "#%%\n"
    }
   },
   "outputs": [],
   "source": [
    "# EO with balanced dataset \n",
    "balanced_index_pass0 = y_train_binary[y_train_binary==0].index \n",
    "balanced_index_pass1 = y_train_binary[y_train_binary==1].sample(n=balanced_index_pass0.size, random_state=0).index\n",
    "balanced_index = balanced_index_pass0.union(balanced_index_pass1)\n",
    "\n",
    "expgrad_eo_balanced = ExponentiatedGradient(\n",
    "    LogisticRegression(solver='liblinear', fit_intercept=True),\n",
    "    constraints=EqualizedOdds(),\n",
    "    eps=0.01,\n",
    "    nu=1e-6)\n",
    "\n",
    "expgrad_eo_balanced.fit(\n",
    "    X_train.iloc[balanced_index,:],\n",
    "    y_train_binary.iloc[balanced_index],\n",
    "    sensitive_features=A_train.iloc[balanced_index])"
   ]
  },
  {
   "cell_type": "code",
   "execution_count": 330,
   "metadata": {},
   "outputs": [],
   "source": [
    "scores_expgrad_eo_balanced = pd.Series(expgrad_eo_balanced.predict(X_test), name=\"scores_expgrad_eo_balanced\")"
   ]
  },
  {
   "cell_type": "code",
   "execution_count": 381,
   "metadata": {
    "pycharm": {
     "name": "#%%\n"
    }
   },
   "outputs": [
    {
     "data": {
      "text/html": [
       "<div>\n",
       "<style scoped>\n",
       "    .dataframe tbody tr th:only-of-type {\n",
       "        vertical-align: middle;\n",
       "    }\n",
       "\n",
       "    .dataframe tbody tr th {\n",
       "        vertical-align: top;\n",
       "    }\n",
       "\n",
       "    .dataframe thead th {\n",
       "        text-align: right;\n",
       "    }\n",
       "</style>\n",
       "<table border=\"1\" class=\"dataframe\">\n",
       "  <thead>\n",
       "    <tr style=\"text-align: right;\">\n",
       "      <th></th>\n",
       "      <th>mse_expgrad_eo_balanced_overprediction</th>\n",
       "    </tr>\n",
       "  </thead>\n",
       "  <tbody>\n",
       "    <tr>\n",
       "      <th>female</th>\n",
       "      <td>0.114763</td>\n",
       "    </tr>\n",
       "    <tr>\n",
       "      <th>male</th>\n",
       "      <td>0.144232</td>\n",
       "    </tr>\n",
       "    <tr>\n",
       "      <th>overall</th>\n",
       "      <td>0.129802</td>\n",
       "    </tr>\n",
       "  </tbody>\n",
       "</table>\n",
       "</div>"
      ],
      "text/plain": [
       "         mse_expgrad_eo_balanced_overprediction\n",
       "female                                 0.114763\n",
       "male                                   0.144232\n",
       "overall                                0.129802"
      ]
     },
     "metadata": {},
     "output_type": "display_data"
    }
   ],
   "source": [
    "mse_expgrad_balanced_overprediction = group_metric_as_df(\"mse_expgrad_eo_balanced_overprediction\", group_mean_overprediction(y_test_rescaled, scores_expgrad_eo_balanced, A_test))\n",
    "mse_expgrad_balanced_overprediction.rename(index={0: \"female\", 1: \"male\"}, inplace=True)\n",
    "display(mse_expgrad_balanced_overprediction)"
   ]
  },
  {
   "cell_type": "code",
   "execution_count": 382,
   "metadata": {
    "pycharm": {
     "name": "#%%\n"
    }
   },
   "outputs": [
    {
     "data": {
      "text/html": [
       "<div>\n",
       "<style scoped>\n",
       "    .dataframe tbody tr th:only-of-type {\n",
       "        vertical-align: middle;\n",
       "    }\n",
       "\n",
       "    .dataframe tbody tr th {\n",
       "        vertical-align: top;\n",
       "    }\n",
       "\n",
       "    .dataframe thead th {\n",
       "        text-align: right;\n",
       "    }\n",
       "</style>\n",
       "<table border=\"1\" class=\"dataframe\">\n",
       "  <thead>\n",
       "    <tr style=\"text-align: right;\">\n",
       "      <th></th>\n",
       "      <th>mse_expgrad_eo_balanced_underprediction</th>\n",
       "    </tr>\n",
       "  </thead>\n",
       "  <tbody>\n",
       "    <tr>\n",
       "      <th>female</th>\n",
       "      <td>0.321505</td>\n",
       "    </tr>\n",
       "    <tr>\n",
       "      <th>male</th>\n",
       "      <td>0.298257</td>\n",
       "    </tr>\n",
       "    <tr>\n",
       "      <th>overall</th>\n",
       "      <td>0.309641</td>\n",
       "    </tr>\n",
       "  </tbody>\n",
       "</table>\n",
       "</div>"
      ],
      "text/plain": [
       "         mse_expgrad_eo_balanced_underprediction\n",
       "female                                  0.321505\n",
       "male                                    0.298257\n",
       "overall                                 0.309641"
      ]
     },
     "metadata": {},
     "output_type": "display_data"
    }
   ],
   "source": [
    "mse_expgrad_balanced_underprediction = group_metric_as_df(\"mse_expgrad_eo_balanced_underprediction\", group_mean_underprediction(y_test_rescaled, scores_expgrad_eo_balanced, A_test))\n",
    "mse_expgrad_balanced_underprediction.rename(index={0: \"female\", 1: \"male\"}, inplace=True)\n",
    "display(mse_expgrad_balanced_underprediction)"
   ]
  },
  {
   "cell_type": "markdown",
   "metadata": {},
   "source": [
    "### Result Analysis: Baseline vs. GridSearch vs. Exponentiated Gradient"
   ]
  },
  {
   "cell_type": "markdown",
   "metadata": {},
   "source": [
    "### MSE Overprediction and Underprediction "
   ]
  },
  {
   "cell_type": "markdown",
   "metadata": {},
   "source": [
    "#### Overall MSE Overprediction and Underprediction for Each Model"
   ]
  },
  {
   "cell_type": "code",
   "execution_count": 394,
   "metadata": {
    "pycharm": {
     "name": "#%%\n"
    }
   },
   "outputs": [],
   "source": [
    "mse_overprediction = pd.concat([mse_unmitigated_overprediction, mse_gridsearch_overprediction, mse_expgrad_overprediction, mse_expgrad_balanced_overprediction], axis = 1)\n",
    "mse_underprediction = pd.concat([mse_unmitigated_underprediction, mse_gridsearch_underprediction, mse_expgrad_underprediction, mse_expgrad_balanced_underprediction], axis = 1)"
   ]
  },
  {
   "cell_type": "code",
   "execution_count": 395,
   "metadata": {},
   "outputs": [
    {
     "data": {
      "text/html": [
       "<div>\n",
       "<style scoped>\n",
       "    .dataframe tbody tr th:only-of-type {\n",
       "        vertical-align: middle;\n",
       "    }\n",
       "\n",
       "    .dataframe tbody tr th {\n",
       "        vertical-align: top;\n",
       "    }\n",
       "\n",
       "    .dataframe thead th {\n",
       "        text-align: right;\n",
       "    }\n",
       "</style>\n",
       "<table border=\"1\" class=\"dataframe\">\n",
       "  <thead>\n",
       "    <tr style=\"text-align: right;\">\n",
       "      <th></th>\n",
       "      <th>mse_unmitigated_overprediction</th>\n",
       "      <th>mse_gridsearch_overprediction</th>\n",
       "      <th>mse_expgrad_eo_overprediction</th>\n",
       "      <th>mse_expgrad_eo_balanced_overprediction</th>\n",
       "    </tr>\n",
       "  </thead>\n",
       "  <tbody>\n",
       "    <tr>\n",
       "      <th>female</th>\n",
       "      <td>0.060785</td>\n",
       "      <td>0.060986</td>\n",
       "      <td>0.257064</td>\n",
       "      <td>0.114763</td>\n",
       "    </tr>\n",
       "    <tr>\n",
       "      <th>male</th>\n",
       "      <td>0.102072</td>\n",
       "      <td>0.102777</td>\n",
       "      <td>0.349142</td>\n",
       "      <td>0.144232</td>\n",
       "    </tr>\n",
       "    <tr>\n",
       "      <th>overall</th>\n",
       "      <td>0.081855</td>\n",
       "      <td>0.082313</td>\n",
       "      <td>0.304055</td>\n",
       "      <td>0.129802</td>\n",
       "    </tr>\n",
       "  </tbody>\n",
       "</table>\n",
       "</div>"
      ],
      "text/plain": [
       "         mse_unmitigated_overprediction  mse_gridsearch_overprediction  \\\n",
       "female                         0.060785                       0.060986   \n",
       "male                           0.102072                       0.102777   \n",
       "overall                        0.081855                       0.082313   \n",
       "\n",
       "         mse_expgrad_eo_overprediction  mse_expgrad_eo_balanced_overprediction  \n",
       "female                        0.257064                                0.114763  \n",
       "male                          0.349142                                0.144232  \n",
       "overall                       0.304055                                0.129802  "
      ]
     },
     "metadata": {},
     "output_type": "display_data"
    },
    {
     "data": {
      "text/html": [
       "<div>\n",
       "<style scoped>\n",
       "    .dataframe tbody tr th:only-of-type {\n",
       "        vertical-align: middle;\n",
       "    }\n",
       "\n",
       "    .dataframe tbody tr th {\n",
       "        vertical-align: top;\n",
       "    }\n",
       "\n",
       "    .dataframe thead th {\n",
       "        text-align: right;\n",
       "    }\n",
       "</style>\n",
       "<table border=\"1\" class=\"dataframe\">\n",
       "  <thead>\n",
       "    <tr style=\"text-align: right;\">\n",
       "      <th></th>\n",
       "      <th>mse_unmitigated_underprediction</th>\n",
       "      <th>mse_gridsearch_underprediction</th>\n",
       "      <th>mse_expgrad_eo_underprediction</th>\n",
       "      <th>mse_expgrad_eo_balanced_underprediction</th>\n",
       "    </tr>\n",
       "  </thead>\n",
       "  <tbody>\n",
       "    <tr>\n",
       "      <th>female</th>\n",
       "      <td>0.088945</td>\n",
       "      <td>0.087966</td>\n",
       "      <td>-0.0</td>\n",
       "      <td>0.321505</td>\n",
       "    </tr>\n",
       "    <tr>\n",
       "      <th>male</th>\n",
       "      <td>0.061822</td>\n",
       "      <td>0.061215</td>\n",
       "      <td>-0.0</td>\n",
       "      <td>0.298257</td>\n",
       "    </tr>\n",
       "    <tr>\n",
       "      <th>overall</th>\n",
       "      <td>0.075103</td>\n",
       "      <td>0.074314</td>\n",
       "      <td>-0.0</td>\n",
       "      <td>0.309641</td>\n",
       "    </tr>\n",
       "  </tbody>\n",
       "</table>\n",
       "</div>"
      ],
      "text/plain": [
       "         mse_unmitigated_underprediction  mse_gridsearch_underprediction  \\\n",
       "female                          0.088945                        0.087966   \n",
       "male                            0.061822                        0.061215   \n",
       "overall                         0.075103                        0.074314   \n",
       "\n",
       "         mse_expgrad_eo_underprediction  \\\n",
       "female                             -0.0   \n",
       "male                               -0.0   \n",
       "overall                            -0.0   \n",
       "\n",
       "         mse_expgrad_eo_balanced_underprediction  \n",
       "female                                  0.321505  \n",
       "male                                    0.298257  \n",
       "overall                                 0.309641  "
      ]
     },
     "metadata": {},
     "output_type": "display_data"
    }
   ],
   "source": [
    "display(mse_overprediction, mse_underprediction)"
   ]
  },
  {
   "cell_type": "code",
   "execution_count": 439,
   "metadata": {},
   "outputs": [
    {
     "data": {
      "text/html": [
       "<div>\n",
       "<style scoped>\n",
       "    .dataframe tbody tr th:only-of-type {\n",
       "        vertical-align: middle;\n",
       "    }\n",
       "\n",
       "    .dataframe tbody tr th {\n",
       "        vertical-align: top;\n",
       "    }\n",
       "\n",
       "    .dataframe thead th {\n",
       "        text-align: right;\n",
       "    }\n",
       "</style>\n",
       "<table border=\"1\" class=\"dataframe\">\n",
       "  <thead>\n",
       "    <tr style=\"text-align: right;\">\n",
       "      <th></th>\n",
       "      <th>index</th>\n",
       "      <th>mse_unmitigated_overprediction</th>\n",
       "      <th>mse_gridsearch_overprediction</th>\n",
       "      <th>mse_expgrad_eo_overprediction</th>\n",
       "      <th>mse_expgrad_eo_balanced_overprediction</th>\n",
       "      <th>mse_unmitigated_underprediction</th>\n",
       "      <th>mse_gridsearch_underprediction</th>\n",
       "      <th>mse_expgrad_eo_underprediction</th>\n",
       "      <th>mse_expgrad_eo_balanced_underprediction</th>\n",
       "    </tr>\n",
       "  </thead>\n",
       "  <tbody>\n",
       "    <tr>\n",
       "      <th>0</th>\n",
       "      <td>female</td>\n",
       "      <td>0.060785</td>\n",
       "      <td>0.060986</td>\n",
       "      <td>0.257064</td>\n",
       "      <td>0.114763</td>\n",
       "      <td>0.088945</td>\n",
       "      <td>0.087966</td>\n",
       "      <td>-0.0</td>\n",
       "      <td>0.321505</td>\n",
       "    </tr>\n",
       "    <tr>\n",
       "      <th>1</th>\n",
       "      <td>male</td>\n",
       "      <td>0.102072</td>\n",
       "      <td>0.102777</td>\n",
       "      <td>0.349142</td>\n",
       "      <td>0.144232</td>\n",
       "      <td>0.061822</td>\n",
       "      <td>0.061215</td>\n",
       "      <td>-0.0</td>\n",
       "      <td>0.298257</td>\n",
       "    </tr>\n",
       "    <tr>\n",
       "      <th>2</th>\n",
       "      <td>overall</td>\n",
       "      <td>0.081855</td>\n",
       "      <td>0.082313</td>\n",
       "      <td>0.304055</td>\n",
       "      <td>0.129802</td>\n",
       "      <td>0.075103</td>\n",
       "      <td>0.074314</td>\n",
       "      <td>-0.0</td>\n",
       "      <td>0.309641</td>\n",
       "    </tr>\n",
       "  </tbody>\n",
       "</table>\n",
       "</div>"
      ],
      "text/plain": [
       "     index  mse_unmitigated_overprediction  mse_gridsearch_overprediction  \\\n",
       "0   female                        0.060785                       0.060986   \n",
       "1     male                        0.102072                       0.102777   \n",
       "2  overall                        0.081855                       0.082313   \n",
       "\n",
       "   mse_expgrad_eo_overprediction  mse_expgrad_eo_balanced_overprediction  \\\n",
       "0                       0.257064                                0.114763   \n",
       "1                       0.349142                                0.144232   \n",
       "2                       0.304055                                0.129802   \n",
       "\n",
       "   mse_unmitigated_underprediction  mse_gridsearch_underprediction  \\\n",
       "0                         0.088945                        0.087966   \n",
       "1                         0.061822                        0.061215   \n",
       "2                         0.075103                        0.074314   \n",
       "\n",
       "   mse_expgrad_eo_underprediction  mse_expgrad_eo_balanced_underprediction  \n",
       "0                            -0.0                                 0.321505  \n",
       "1                            -0.0                                 0.298257  \n",
       "2                            -0.0                                 0.309641  "
      ]
     },
     "execution_count": 439,
     "metadata": {},
     "output_type": "execute_result"
    }
   ],
   "source": [
    "mse_concat = pd.concat([mse_overprediction, mse_underprediction], axis=1)\n",
    "mse_concat.reset_index()"
   ]
  },
  {
   "cell_type": "code",
   "execution_count": 442,
   "metadata": {},
   "outputs": [
    {
     "data": {
      "text/plain": [
       "[Text(17.200000000000003, 0.5, 'Mean Squared Error'),\n",
       " Text(0.5, 17.200000000000003, 'Model Type')]"
      ]
     },
     "execution_count": 442,
     "metadata": {},
     "output_type": "execute_result"
    },
    {
     "data": {
      "image/png": "[encoded data removed]",
      "text/plain": [
       "<Figure size 792x504 with 1 Axes>"
      ]
     },
     "metadata": {
      "needs_background": "light"
     },
     "output_type": "display_data"
    }
   ],
   "source": [
    "mse_concat.groupby(level=0).mean().T.plot(kind='bar',\n",
    "                                                  figsize=(11,7),\n",
    "                                                  title='MSE Overprediction and Underprediction by Gender',\n",
    "                                                  colormap='binary',\n",
    "                                                  linewidth=1,\n",
    "                                                  edgecolor='black')\n",
    "fig.set(xlabel=\"Model Type\", ylabel=\"Mean Squared Error\")"
   ]
  },
  {
   "cell_type": "markdown",
   "metadata": {},
   "source": [
    "#### Difference in MSE Overprediction between the Different Groups \n",
    "Calculating the percentage difference in MSE overprediction for each gender relative to the \"overall\" MSE overprediction "
   ]
  },
  {
   "cell_type": "code",
   "execution_count": 452,
   "metadata": {
    "pycharm": {
     "name": "#%%\n"
    }
   },
   "outputs": [],
   "source": [
    "mse_overprediction_diff_female = np.round((mse_overprediction.loc[\"female\"] - mse_overprediction.loc[\"overall\"]) / mse_overprediction.loc[\"overall\"] * 100 , 2)\n",
    "mse_overprediction_diff_male = np.round((mse_overprediction.loc[\"male\"] - mse_overprediction.loc[\"overall\"]) / mse_overprediction.loc[\"overall\"] * 100, 2)\n",
    "mse_overprediction_diff = pd.concat([mse_overprediction_diff_female, mse_overprediction_diff_male], axis=1)\n",
    "mse_overprediction_diff.rename(columns={0:\"female\", 1:\"male\"}, inplace=True )"
   ]
  },
  {
   "cell_type": "code",
   "execution_count": 453,
   "metadata": {
    "pycharm": {
     "name": "#%%\n"
    }
   },
   "outputs": [],
   "source": [
    "mse_underprediction_diff_female = np.round((mse_underprediction.loc[\"female\"] - mse_underprediction.loc[\"overall\"]) / mse_underprediction.loc[\"overall\"] * 100 , 2)\n",
    "mse_underprediction_diff_male = np.round((mse_underprediction.loc[\"male\"] - mse_underprediction.loc[\"overall\"]) / mse_underprediction.loc[\"overall\"] * 100, 2)\n",
    "mse_underprediction_diff = pd.concat([mse_underprediction_diff_female, mse_underprediction_diff_male], axis=1)\n",
    "mse_underprediction_diff.rename(columns={0:\"female\", 1:\"male\"}, inplace=True )"
   ]
  },
  {
   "cell_type": "code",
   "execution_count": 454,
   "metadata": {},
   "outputs": [
    {
     "data": {
      "text/html": [
       "<div>\n",
       "<style scoped>\n",
       "    .dataframe tbody tr th:only-of-type {\n",
       "        vertical-align: middle;\n",
       "    }\n",
       "\n",
       "    .dataframe tbody tr th {\n",
       "        vertical-align: top;\n",
       "    }\n",
       "\n",
       "    .dataframe thead th {\n",
       "        text-align: right;\n",
       "    }\n",
       "</style>\n",
       "<table border=\"1\" class=\"dataframe\">\n",
       "  <thead>\n",
       "    <tr style=\"text-align: right;\">\n",
       "      <th></th>\n",
       "      <th>female</th>\n",
       "      <th>male</th>\n",
       "    </tr>\n",
       "  </thead>\n",
       "  <tbody>\n",
       "    <tr>\n",
       "      <th>mse_unmitigated_overprediction</th>\n",
       "      <td>-25.74</td>\n",
       "      <td>24.70</td>\n",
       "    </tr>\n",
       "    <tr>\n",
       "      <th>mse_gridsearch_overprediction</th>\n",
       "      <td>-25.91</td>\n",
       "      <td>24.86</td>\n",
       "    </tr>\n",
       "    <tr>\n",
       "      <th>mse_expgrad_eo_overprediction</th>\n",
       "      <td>-15.45</td>\n",
       "      <td>14.83</td>\n",
       "    </tr>\n",
       "    <tr>\n",
       "      <th>mse_expgrad_eo_balanced_overprediction</th>\n",
       "      <td>-11.59</td>\n",
       "      <td>11.12</td>\n",
       "    </tr>\n",
       "  </tbody>\n",
       "</table>\n",
       "</div>"
      ],
      "text/plain": [
       "                                        female   male\n",
       "mse_unmitigated_overprediction          -25.74  24.70\n",
       "mse_gridsearch_overprediction           -25.91  24.86\n",
       "mse_expgrad_eo_overprediction           -15.45  14.83\n",
       "mse_expgrad_eo_balanced_overprediction  -11.59  11.12"
      ]
     },
     "metadata": {},
     "output_type": "display_data"
    },
    {
     "data": {
      "text/html": [
       "<div>\n",
       "<style scoped>\n",
       "    .dataframe tbody tr th:only-of-type {\n",
       "        vertical-align: middle;\n",
       "    }\n",
       "\n",
       "    .dataframe tbody tr th {\n",
       "        vertical-align: top;\n",
       "    }\n",
       "\n",
       "    .dataframe thead th {\n",
       "        text-align: right;\n",
       "    }\n",
       "</style>\n",
       "<table border=\"1\" class=\"dataframe\">\n",
       "  <thead>\n",
       "    <tr style=\"text-align: right;\">\n",
       "      <th></th>\n",
       "      <th>female</th>\n",
       "      <th>male</th>\n",
       "    </tr>\n",
       "  </thead>\n",
       "  <tbody>\n",
       "    <tr>\n",
       "      <th>mse_unmitigated_underprediction</th>\n",
       "      <td>18.43</td>\n",
       "      <td>-17.68</td>\n",
       "    </tr>\n",
       "    <tr>\n",
       "      <th>mse_gridsearch_underprediction</th>\n",
       "      <td>18.37</td>\n",
       "      <td>-17.63</td>\n",
       "    </tr>\n",
       "    <tr>\n",
       "      <th>mse_expgrad_eo_underprediction</th>\n",
       "      <td>NaN</td>\n",
       "      <td>NaN</td>\n",
       "    </tr>\n",
       "    <tr>\n",
       "      <th>mse_expgrad_eo_balanced_underprediction</th>\n",
       "      <td>3.83</td>\n",
       "      <td>-3.68</td>\n",
       "    </tr>\n",
       "  </tbody>\n",
       "</table>\n",
       "</div>"
      ],
      "text/plain": [
       "                                         female   male\n",
       "mse_unmitigated_underprediction           18.43 -17.68\n",
       "mse_gridsearch_underprediction            18.37 -17.63\n",
       "mse_expgrad_eo_underprediction              NaN    NaN\n",
       "mse_expgrad_eo_balanced_underprediction    3.83  -3.68"
      ]
     },
     "metadata": {},
     "output_type": "display_data"
    }
   ],
   "source": [
    "display(mse_overprediction_diff)\n",
    "display(mse_underprediction_diff)"
   ]
  },
  {
   "cell_type": "code",
   "execution_count": 507,
   "metadata": {},
   "outputs": [],
   "source": [
    "mse_diff_concat = pd.concat([mse_overprediction_diff, mse_underprediction_diff])\n",
    "# mse_diff_concat.reset_index(inplace=True)"
   ]
  },
  {
   "cell_type": "code",
   "execution_count": 493,
   "metadata": {},
   "outputs": [],
   "source": [
    "mse_diff_concat = pd.concat([mse_overprediction_diff, mse_underprediction_diff])\n",
    "mse_diff_concat.reset_index(inplace=True)\n",
    "mse_diff_concat.set_index([\"female\", \"male\"], inplace=True)"
   ]
  },
  {
   "cell_type": "code",
   "execution_count": 514,
   "metadata": {},
   "outputs": [
    {
     "data": {
      "text/plain": [
       "[Text(17.200000000000003, 0.5, 'Mean Squared Error'),\n",
       " Text(0.5, 17.200000000000003, 'Model Type')]"
      ]
     },
     "execution_count": 514,
     "metadata": {},
     "output_type": "execute_result"
    },
    {
     "data": {
      "image/png": "[encoded data removed]",
      "text/plain": [
       "<Figure size 792x504 with 1 Axes>"
      ]
     },
     "metadata": {
      "needs_background": "light"
     },
     "output_type": "display_data"
    }
   ],
   "source": [
    "mse_diff_concat.T.groupby(level=0).mean().T.plot(kind='bar',\n",
    "                                                  figsize=(11,7),\n",
    "                                                  title='% Difference in MSE Overprediction and Underprediction by Gender Relative to Overall MSE',\n",
    "                                                  colormap='binary',\n",
    "                                                  linewidth=1,\n",
    "                                                  edgecolor='black')\n",
    "fig.set(xlabel=\"Model Type\", ylabel=\"Mean Squared Error\")"
   ]
  },
  {
   "cell_type": "code",
   "execution_count": 537,
   "metadata": {},
   "outputs": [],
   "source": [
    "A_test_renamed = A_test.replace([0,1], [\"female\", \"male\"])"
   ]
  },
  {
   "cell_type": "code",
   "execution_count": 539,
   "metadata": {},
   "outputs": [
    {
     "data": {
      "application/vnd.jupyter.widget-view+json": {
       "model_id": "efd445a30d1448bea6eaecdffb2fe508",
       "version_major": 2,
       "version_minor": 0
      },
      "text/plain": [
       "FairlearnWidget(value={'true_y': [2.01, 3.39333, 3.03667, 3.35, 3.89, 2.94667, 1.88333, 3.5466699999999998, 2.…"
      ]
     },
     "metadata": {},
     "output_type": "display_data"
    },
    {
     "data": {
      "text/plain": [
       "<fairlearn.widget._fairlearn_dashboard.FairlearnDashboard at 0x1347d9a50>"
      ]
     },
     "execution_count": 539,
     "metadata": {},
     "output_type": "execute_result"
    }
   ],
   "source": [
    "from fairlearn.widget import FairlearnDashboard\n",
    "\n",
    "FairlearnDashboard(sensitive_features=A_test_renamed, \n",
    "                   y_true=y_test,\n",
    "                   y_pred={\"unmitigated\": scores_unmitigated_rescaled,\n",
    "                           \"gridsearch\": scores_best_gs_rescaled, \n",
    "                           \"expgrad_balanced\": scores_expgrad_eo_balanced\n",
    "                   })"
   ]
  },
  {
   "cell_type": "markdown",
   "metadata": {},
   "source": [
    "## Replicating Fig. 3 in \"Preventing undesirable behavior of intelligent machines\" "
   ]
  },
  {
   "cell_type": "markdown",
   "metadata": {
    "colab_type": "text",
    "id": "OHAr_Fmj4ahW"
   },
   "source": [
    "In attempt to replicate fig. 3 in [\"Preventing undesirable behavior of intelligent machines\" (Thomas et. al 2019) ](https://science.sciencemag.org/content/366/6468/999), we further explored the effects of using Grid Search and Exponentiated Gradient methods to impose Fairlearn's Demographic Parity and Equalized Odds fairness constraints on the GPA classification algorithm results."
   ]
  },
  {
   "cell_type": "markdown",
   "metadata": {
    "colab_type": "text",
    "id": "L2HoMRSi-Ir4"
   },
   "source": [
    "First, we train a standard logistic regression predictor that does not seek to incorporate any notion of fairness. We simply fit this Logistic Regression model to the training data and plot some characteristics of training and test data as well as the predictions of the model on those datasets. "
   ]
  },
  {
   "cell_type": "code",
   "execution_count": 22,
   "metadata": {
    "colab": {},
    "colab_type": "code",
    "id": "cBGOKXW3TRaf"
   },
   "outputs": [],
   "source": [
    "unmitigated_predictor = LogisticRegression(solver='liblinear', fit_intercept=True)\n",
    "unmitigated_predictor.fit(X_train, y_train_bool)\n",
    "predict_unmitigated = unmitigated_predictor.predict(X_test)\n",
    "scores_unmitigated = pd.Series(unmitigated_predictor.predict_proba(X_test)[:,1], name=\"score_unmitigated\")"
   ]
  },
  {
   "cell_type": "code",
   "execution_count": 23,
   "metadata": {
    "colab": {},
    "colab_type": "code",
    "id": "Rj9TAWSz8Tls"
   },
   "outputs": [],
   "source": [
    "A_test_renamed = A_test.replace({0: \"female\", 1: \"male\"})"
   ]
  },
  {
   "cell_type": "markdown",
   "metadata": {
    "colab_type": "text",
    "id": "01y0xvE7-RJh"
   },
   "source": [
    "We interpret the probabilistic predictions outputted by the logistic regression as the scores and evaluate the quality of the GPA classification they produce in terms of the prediction accuracy. We decided to use accuracy as our performance metrics because the dataset is relatively balanced between the two groups, i.e. female and male students.\n",
    "\n",
    "Before we continue with our analysis, we will provide the definition of the metric used. The accuracy score is, informally, defined as the fraction of predictions our model gets right and formally, defined as the number of correct predictions (TP+TN) divided by total predictions (TP+TN+FP+FN). Although the logistic regression estimator is designed to directly optimize the logistic loss not the accuracy score, a good logistic loss is still expected to give a good accuracy score.\n",
    "\n",
    "To obtain the accuracy values for the overall student population as well as black and white subpopulations, we use the group metric variant of the sklearn metric accuracy_score."
   ]
  },
  {
   "cell_type": "code",
   "execution_count": 24,
   "metadata": {
    "colab": {
     "base_uri": "https://localhost:8080/",
     "height": 142
    },
    "colab_type": "code",
    "id": "izCMbQefbL7y",
    "outputId": "bb5131ea-7328-4a08-8a13-f4ba29730bfe"
   },
   "outputs": [
    {
     "data": {
      "text/html": [
       "<div>\n",
       "<style scoped>\n",
       "    .dataframe tbody tr th:only-of-type {\n",
       "        vertical-align: middle;\n",
       "    }\n",
       "\n",
       "    .dataframe tbody tr th {\n",
       "        vertical-align: top;\n",
       "    }\n",
       "\n",
       "    .dataframe thead th {\n",
       "        text-align: right;\n",
       "    }\n",
       "</style>\n",
       "<table border=\"1\" class=\"dataframe\">\n",
       "  <thead>\n",
       "    <tr style=\"text-align: right;\">\n",
       "      <th></th>\n",
       "      <th>accuracy_unmitigated</th>\n",
       "    </tr>\n",
       "  </thead>\n",
       "  <tbody>\n",
       "    <tr>\n",
       "      <th>female</th>\n",
       "      <td>0.609290</td>\n",
       "    </tr>\n",
       "    <tr>\n",
       "      <th>male</th>\n",
       "      <td>0.673982</td>\n",
       "    </tr>\n",
       "    <tr>\n",
       "      <th>overall</th>\n",
       "      <td>0.642305</td>\n",
       "    </tr>\n",
       "  </tbody>\n",
       "</table>\n",
       "</div>"
      ],
      "text/plain": [
       "         accuracy_unmitigated\n",
       "female               0.609290\n",
       "male                 0.673982\n",
       "overall              0.642305"
      ]
     },
     "metadata": {},
     "output_type": "display_data"
    }
   ],
   "source": [
    "acc_unmitigated = group_metric_as_df(\"accuracy_unmitigated\",\n",
    "                                     group_accuracy_score(y_test_bool, predict_unmitigated, A_test))\n",
    "acc_unmitigated.rename(index={0: \"female\", 1: \"male\"}, inplace=True)\n",
    "display(acc_unmitigated)"
   ]
  },
  {
   "cell_type": "code",
   "execution_count": 25,
   "metadata": {
    "colab": {
     "base_uri": "https://localhost:8080/",
     "height": 337
    },
    "colab_type": "code",
    "id": "WhKm9Gak7ZmO",
    "outputId": "46c0461a-126d-42ee-bfea-6f353e1a13e9"
   },
   "outputs": [
    {
     "name": "stdout",
     "output_type": "stream",
     "text": [
      "\n",
      "original test data:\n"
     ]
    },
    {
     "data": {
      "image/png": "[encoded data removed]",
      "text/plain": [
       "<Figure size 432x288 with 1 Axes>"
      ]
     },
     "metadata": {
      "needs_background": "light"
     },
     "output_type": "display_data"
    }
   ],
   "source": [
    "show_proportions(X_test, A_test_renamed, y_test_bool, description=\"original test data:\", plot_row_index=3)\n",
    "plt.show()"
   ]
  },
  {
   "cell_type": "code",
   "execution_count": 26,
   "metadata": {
    "colab": {
     "base_uri": "https://localhost:8080/",
     "height": 377
    },
    "colab_type": "code",
    "id": "vWBuc39ElumG",
    "outputId": "e3ffb31e-17d8-473e-ee0a-e8b1896589a8"
   },
   "outputs": [
    {
     "name": "stdout",
     "output_type": "stream",
     "text": [
      "\n",
      "fairness-unaware prediction on test data:\n"
     ]
    },
    {
     "data": {
      "image/png": "[encoded data removed]",
      "text/plain": [
       "<Figure size 432x288 with 1 Axes>"
      ]
     },
     "metadata": {
      "needs_background": "light"
     },
     "output_type": "display_data"
    }
   ],
   "source": [
    "show_proportions(X_test, A_test_renamed, predict_unmitigated, y_test_bool, description=\"fairness-unaware prediction on test data:\", plot_row_index=4)\n",
    "plt.show()"
   ]
  },
  {
   "cell_type": "markdown",
   "metadata": {
    "colab_type": "text",
    "id": "dpEr_6mD7joL"
   },
   "source": [
    "We notice that males have approx. 1-2% higher likelihood of getting a predicted GPA above 3.0 whereas women have about 10% lower likelihood of getting assigned a predicted GPA above 3.0."
   ]
  },
  {
   "cell_type": "markdown",
   "metadata": {
    "colab_type": "text",
    "id": "SB2YIqqo7l7t"
   },
   "source": [
    "We will now use Fairlearn's Grid Search and Exponentiated Gradient algorithms to impose fairness constraints on the ML algorithms. The goal is to make the output fair with respect to fairness constraints. \\\\\n",
    "The Fairlearn algorithms use one of the following fairness constraints:  \n",
    "- Demographic Parity (DP): $P\\ [\\ h(X)=\\hat{y}\\ |\\ A=a] = P\\ [\\ h(X)=\\hat{y}\\ ] \\qquad \\forall a, \\hat{y}$\n",
    "- Equalized Odds (EO): $P\\ [\\ h(X)=\\hat{y}\\ |\\ A=a, Y=y] = P\\ [\\ h(X)=\\hat{y}\\ |\\ Y=y\\ ] \\qquad \\forall a, \\hat{y}$\n",
    "\n",
    "where $h(X)$ is the prediction based on the input $X$, $\\hat{y}$ and $y$ are labels, and $a$ is a sensitive feature value. \\\\\n",
    "\n",
    "\n",
    "\n"
   ]
  },
  {
   "cell_type": "markdown",
   "metadata": {
    "colab_type": "text",
    "id": "WzPZjLa2xLcO"
   },
   "source": [
    "#### Mitigating Demographic Disparity with Grid Search "
   ]
  },
  {
   "cell_type": "markdown",
   "metadata": {
    "colab_type": "text",
    "id": "pV5TItVRkFDv"
   },
   "source": [
    "We will now use Fairlearn's Grid Search algorithm to mitigate the demographic disparity by building models that achieve various trade-offs between accuracy and demographic disparity.\n",
    "\n",
    "GridSearch generates models corresponding to various Lagrange multiplier vectors of the underlying constraint optimization problem. We will compute 50 models on a grid of Lagrange multiplier vectors whose L1-norm is bounded by 10. For details on how the search works, refer to Section 3.4 of Agarwal et. al (2018). \n"
   ]
  },
  {
   "cell_type": "markdown",
   "metadata": {
    "colab_type": "text",
    "id": "VED-ez6DBXYF"
   },
   "source": [
    "##### Using Demographic Parity as Fairness Constraint"
   ]
  },
  {
   "cell_type": "code",
   "execution_count": null,
   "metadata": {
    "colab": {},
    "colab_type": "code",
    "id": "UmwRjlv2E4Qb"
   },
   "outputs": [],
   "source": [
    "first_sweep_dp = GridSearch(LogisticRegression(solver='liblinear', fit_intercept=True),\n",
    "                   constraints=DemographicParity(),\n",
    "                   grid_size=50,\n",
    "                   grid_limit=10)\n",
    "first_sweep_dp.fit(X_train, y_train_bool, sensitive_features=A_train)\n",
    "Y_first_predict_dp = first_sweep_dp.predict(X_test)\n",
    "best_results_dp_proba = first_sweep_dp.predict_proba(X_test)\n",
    "scores_best_dp = pd.Series(best_results_dp_proba[:,1], name=\"score_best_model\")"
   ]
  },
  {
   "cell_type": "code",
   "execution_count": 0,
   "metadata": {
    "colab": {},
    "colab_type": "code",
    "id": "wJFLrelkDcnL"
   },
   "outputs": [],
   "source": [
    "acc_gs_dp = group_metric_as_df(\"accuracy_gs_dp\",\n",
    "                                     group_accuracy_score(y_test_bool, Y_first_predict_dp, A_test_renamed))"
   ]
  },
  {
   "cell_type": "code",
   "execution_count": 0,
   "metadata": {
    "colab": {},
    "colab_type": "code",
    "id": "5FFLs7ltEr79"
   },
   "outputs": [],
   "source": [
    "lambda_vecs_dp = first_sweep_dp._lambda_vecs\n",
    "actual_multipliers_dp = [lambda_vecs_dp[col][(\"+\", \"all\", 1)]-lambda_vecs_dp[col][(\"-\", \"all\", 1)] for col in lambda_vecs_dp]"
   ]
  },
  {
   "cell_type": "code",
   "execution_count": 0,
   "metadata": {
    "colab": {},
    "colab_type": "code",
    "id": "eR_Pi7d0G2cb"
   },
   "outputs": [],
   "source": [
    "first_sweep_sensitive_feature_weights_dp = [\n",
    "            predictor.coef_[0][1] for predictor in first_sweep_dp._predictors]\n",
    "# plt.scatter(actual_multipliers_dp, first_sweep_sensitive_feature_weights_dp)\n",
    "# plt.xlabel(\"Lagrange Multiplier for GS with Demographic Parity\")\n",
    "# plt.ylabel(\"Weight of Protected Attribute in Model\")\n",
    "# plt.show()"
   ]
  },
  {
   "cell_type": "code",
   "execution_count": 0,
   "metadata": {
    "colab": {},
    "colab_type": "code",
    "id": "AXPo3u9NHLo1"
   },
   "outputs": [],
   "source": [
    "lambda_best_dp = first_sweep_dp._lambda_vecs[first_sweep_dp._best_grid_index][(\"+\", \"all\", 1)] - first_sweep_dp._lambda_vecs[first_sweep_dp._best_grid_index][(\"-\", \"all\", 1)]\n",
    "# print(\"lambda_best_dp =\", lambda_best_dp)\n",
    "# print(\"coefficients_dp =\", first_sweep_dp._predictors[first_sweep_dp._best_grid_index].coef_)"
   ]
  },
  {
   "cell_type": "markdown",
   "metadata": {
    "colab_type": "text",
    "id": "7klTFZB2xSRH"
   },
   "source": [
    "#### Using Equalized Odds"
   ]
  },
  {
   "cell_type": "code",
   "execution_count": 0,
   "metadata": {
    "colab": {},
    "colab_type": "code",
    "id": "Qs5m4rbD6iAz"
   },
   "outputs": [],
   "source": [
    "first_sweep_eo =  GridSearch(LogisticRegression(solver='liblinear', fit_intercept=True),\n",
    "                   constraints=EqualizedOdds(),\n",
    "                   grid_size=50,\n",
    "                   grid_limit=10)\n",
    "first_sweep_eo.fit(X_train, y_train_bool, sensitive_features=A_train)\n",
    "Y_first_predict_eo = first_sweep_eo.predict(X_test)\n",
    "best_results_eo_proba = first_sweep_eo.predict_proba(X_test)\n",
    "scores_best_eo = pd.Series(best_results_eo_proba[:,1], name=\"score_best_model\")"
   ]
  },
  {
   "cell_type": "code",
   "execution_count": 0,
   "metadata": {
    "colab": {},
    "colab_type": "code",
    "id": "uGGzUe8u68E1"
   },
   "outputs": [],
   "source": [
    "acc_gs_eo = group_metric_as_df(\"accuracy_gs_eo\",\n",
    "                                     group_accuracy_score(y_test_bool, Y_first_predict_eo, A_test_renamed))"
   ]
  },
  {
   "cell_type": "code",
   "execution_count": 0,
   "metadata": {
    "colab": {
     "base_uri": "https://localhost:8080/",
     "height": 142
    },
    "colab_type": "code",
    "id": "LQgvMA_D-u1f",
    "outputId": "012989a6-2d8f-42be-929e-7430c13c8358"
   },
   "outputs": [
    {
     "data": {
      "text/html": [
       "<div>\n",
       "<style scoped>\n",
       "    .dataframe tbody tr th:only-of-type {\n",
       "        vertical-align: middle;\n",
       "    }\n",
       "\n",
       "    .dataframe tbody tr th {\n",
       "        vertical-align: top;\n",
       "    }\n",
       "\n",
       "    .dataframe thead th {\n",
       "        text-align: right;\n",
       "    }\n",
       "</style>\n",
       "<table border=\"1\" class=\"dataframe\">\n",
       "  <thead>\n",
       "    <tr style=\"text-align: right;\">\n",
       "      <th></th>\n",
       "      <th>accuracy_unmitigated</th>\n",
       "      <th>accuracy_gs_dp</th>\n",
       "      <th>accuracy_gs_eo</th>\n",
       "    </tr>\n",
       "  </thead>\n",
       "  <tbody>\n",
       "    <tr>\n",
       "      <th>female</th>\n",
       "      <td>0.609526</td>\n",
       "      <td>0.599623</td>\n",
       "      <td>0.609526</td>\n",
       "    </tr>\n",
       "    <tr>\n",
       "      <th>male</th>\n",
       "      <td>0.673982</td>\n",
       "      <td>0.655430</td>\n",
       "      <td>0.673982</td>\n",
       "    </tr>\n",
       "    <tr>\n",
       "      <th>overall</th>\n",
       "      <td>0.642420</td>\n",
       "      <td>0.628103</td>\n",
       "      <td>0.642420</td>\n",
       "    </tr>\n",
       "  </tbody>\n",
       "</table>\n",
       "</div>"
      ],
      "text/plain": [
       "         accuracy_unmitigated  accuracy_gs_dp  accuracy_gs_eo\n",
       "female               0.609526        0.599623        0.609526\n",
       "male                 0.673982        0.655430        0.673982\n",
       "overall              0.642420        0.628103        0.642420"
      ]
     },
     "metadata": {
      "tags": []
     },
     "output_type": "display_data"
    }
   ],
   "source": [
    "acc_agg_gs = pd.concat([acc_unmitigated, acc_gs_dp, acc_gs_eo], axis=1)\n",
    "display(acc_agg_gs)"
   ]
  },
  {
   "cell_type": "markdown",
   "metadata": {
    "colab_type": "text",
    "id": "lIXfSBVjAI8V"
   },
   "source": [
    "#### Mitigating Demographic Disparity with Exponentiated Gradient "
   ]
  },
  {
   "cell_type": "markdown",
   "metadata": {
    "colab_type": "text",
    "id": "ABKlwxvJ8u8y"
   },
   "source": [
    "ExponentiatedGradient also seeks to find a classifier that optimizes accuracy while placing a constraint on the demographic disparity. It operates as a reduction to standard classification, taking any estimator as a black box. During its run it repeatedly re-fits the estimator on variously reweighted training data and eventually produces a randomized classifier of the same type as the provided black-box estimator. This means that if the black box does not have access to the sensitive feature, neither will the predictor fitted by ExponentiatedGradient."
   ]
  },
  {
   "cell_type": "markdown",
   "metadata": {
    "colab_type": "text",
    "id": "biyaozGA8yr-"
   },
   "source": [
    "\n",
    "We train two classifiers via ExponentiatedGradient. Both use LogisticRegression as a black box. However, one has only access to the original features (X_train and X_test), whereas the other one also has access to the sensitive features, which we include in the extended feature set (XA_train and XA_test). Both classifiers optimize accuracy subject to the constraint that demographic disparity on training data is at most 0.01. We also set the convergence parameter nu to 1e-6 to optimize to numerical precision (the default is to optimize to statistical precision, which we override here)."
   ]
  },
  {
   "cell_type": "code",
   "execution_count": 0,
   "metadata": {
    "colab": {},
    "colab_type": "code",
    "id": "l2PIr-5AAHrR"
   },
   "outputs": [],
   "source": [
    "balanced_index_pass0 = y_train_bool[y_train==0].index \n",
    "balanced_index_pass1 = y_train_bool[y_train_bool==1].sample(n=balanced_index_pass0.size, random_state=0).index\n",
    "balanced_index = balanced_index_pass0.union(balanced_index_pass1)"
   ]
  },
  {
   "cell_type": "code",
   "execution_count": 0,
   "metadata": {
    "colab": {},
    "colab_type": "code",
    "id": "D6WlHCA62bgf"
   },
   "outputs": [],
   "source": [
    "XA_train = pd.concat([X_train, A_train==0], axis=1).astype(float)\n",
    "XA_test = pd.concat([X_test, A_test==0], axis=1).astype(float)"
   ]
  },
  {
   "cell_type": "markdown",
   "metadata": {
    "colab_type": "text",
    "id": "CY_M8ZIxxa_e"
   },
   "source": [
    "\n",
    "##### Using Demographic Parity as Fairness Constraint\n",
    "\n",
    "\n"
   ]
  },
  {
   "cell_type": "code",
   "execution_count": 0,
   "metadata": {
    "colab": {},
    "colab_type": "code",
    "id": "UGViNftL--jo"
   },
   "outputs": [],
   "source": [
    "expgrad_dp_X= ExponentiatedGradient(\n",
    "    LogisticRegression(solver='liblinear', fit_intercept=True),\n",
    "    constraints=DemographicParity(),\n",
    "    eps=0.01,\n",
    "    nu=1e-6)\n",
    "expgrad_dp_XA = ExponentiatedGradient(\n",
    "    LogisticRegression(solver='liblinear', fit_intercept=True),\n",
    "    constraints=DemographicParity(),\n",
    "    eps=0.01,\n",
    "    nu=1e-6)\n",
    "\n",
    "expgrad_dp_X.fit(\n",
    "    X_train.iloc[balanced_index,:],\n",
    "    y_train.iloc[balanced_index],\n",
    "    sensitive_features=A_train.iloc[balanced_index])\n",
    "expgrad_dp_XA.fit(\n",
    "    XA_train.iloc[balanced_index,:],\n",
    "    y_train.iloc[balanced_index],\n",
    "    sensitive_features=A_train.iloc[balanced_index])"
   ]
  },
  {
   "cell_type": "code",
   "execution_count": 0,
   "metadata": {
    "colab": {},
    "colab_type": "code",
    "id": "KKaLcDY_AQgM"
   },
   "outputs": [],
   "source": [
    "scores_expgrad_dp_X = pd.Series(expgrad_dp_X.predict(X_test), name=\"scores_dp_expgrad_X\")\n",
    "scores_expgrad_dp_XA = pd.Series(expgrad_dp_XA.predict(XA_test), name=\"scores_dp_expgrad_XA\")\n",
    "\n",
    "acc_expgrad_dp_X = group_metric_as_df(\n",
    "    \"accuracy_expgrad_dp_X\",\n",
    "    group_roc_auc_score(y_test_bool, scores_expgrad_dp_X, A_test_renamed))\n",
    "acc_expgrad_dp_XA = group_metric_as_df(\n",
    "    \"accuracy_expgrad_dp_XA\",\n",
    "    group_roc_auc_score(y_test_bool, scores_expgrad_dp_XA, A_test_renamed))"
   ]
  },
  {
   "cell_type": "markdown",
   "metadata": {
    "colab_type": "text",
    "id": "AO6Y-__VyCHG"
   },
   "source": [
    "#### Using Equalized Odds"
   ]
  },
  {
   "cell_type": "code",
   "execution_count": 0,
   "metadata": {
    "colab": {},
    "colab_type": "code",
    "id": "Cq9W8i8cyE1-"
   },
   "outputs": [],
   "source": [
    "expgrad_eo_X= ExponentiatedGradient(\n",
    "    LogisticRegression(solver='liblinear', fit_intercept=True),\n",
    "    constraints=EqualizedOdds(),\n",
    "    eps=0.01,\n",
    "    nu=1e-6)\n",
    "expgrad_eo_XA = ExponentiatedGradient(\n",
    "    LogisticRegression(solver='liblinear', fit_intercept=True),\n",
    "    constraints=EqualizedOdds(),\n",
    "    eps=0.01,\n",
    "    nu=1e-6)\n",
    "\n",
    "expgrad_eo_X.fit(\n",
    "    X_train.iloc[balanced_index,:],\n",
    "    y_train.iloc[balanced_index],\n",
    "    sensitive_features=A_train.iloc[balanced_index])\n",
    "expgrad_eo_XA.fit(\n",
    "    XA_train.iloc[balanced_index,:],\n",
    "    y_train.iloc[balanced_index],\n",
    "    sensitive_features=A_train.iloc[balanced_index])"
   ]
  },
  {
   "cell_type": "code",
   "execution_count": 0,
   "metadata": {
    "colab": {},
    "colab_type": "code",
    "id": "HEeZ8QGj21f0"
   },
   "outputs": [],
   "source": [
    "scores_expgrad_eo_X = pd.Series(expgrad_eo_X.predict(X_test), name=\"scores_eo_expgrad_X\")\n",
    "scores_expgrad_eo_XA = pd.Series(expgrad_eo_XA.predict(XA_test), name=\"scores_eo_expgrad_XA\")\n",
    "\n",
    "acc_expgrad_eo_X = group_metric_as_df(\n",
    "    \"accuracy_expgrad_eo_X\",\n",
    "    group_roc_auc_score(y_test_bool, scores_expgrad_eo_X, A_test_renamed))\n",
    "acc_expgrad_eo_XA = group_metric_as_df(\n",
    "    \"accuracy_expgrad_eo_XA\",\n",
    "    group_roc_auc_score(y_test_bool, scores_expgrad_eo_XA, A_test_renamed))"
   ]
  },
  {
   "cell_type": "code",
   "execution_count": 0,
   "metadata": {
    "colab": {},
    "colab_type": "code",
    "id": "xmEFnlwC6j8w"
   },
   "outputs": [],
   "source": [
    "acc_agg_expgrad = pd.concat([acc_unmitigated, acc_expgrad_dp_X, acc_expgrad_dp_XA, acc_expgrad_eo_X, acc_expgrad_eo_XA], axis=1)"
   ]
  },
  {
   "cell_type": "code",
   "execution_count": 0,
   "metadata": {
    "colab": {
     "base_uri": "https://localhost:8080/",
     "height": 162
    },
    "colab_type": "code",
    "id": "5LK07U049GAW",
    "outputId": "49259446-4f1a-4e16-982c-86ff90a84e55"
   },
   "outputs": [
    {
     "data": {
      "text/html": [
       "<div>\n",
       "<style scoped>\n",
       "    .dataframe tbody tr th:only-of-type {\n",
       "        vertical-align: middle;\n",
       "    }\n",
       "\n",
       "    .dataframe tbody tr th {\n",
       "        vertical-align: top;\n",
       "    }\n",
       "\n",
       "    .dataframe thead th {\n",
       "        text-align: right;\n",
       "    }\n",
       "</style>\n",
       "<table border=\"1\" class=\"dataframe\">\n",
       "  <thead>\n",
       "    <tr style=\"text-align: right;\">\n",
       "      <th></th>\n",
       "      <th>accuracy_unmitigated</th>\n",
       "      <th>accuracy_expgrad_dp_X</th>\n",
       "      <th>accuracy_expgrad_dp_XA</th>\n",
       "      <th>accuracy_expgrad_eo_X</th>\n",
       "      <th>accuracy_expgrad_eo_XA</th>\n",
       "    </tr>\n",
       "  </thead>\n",
       "  <tbody>\n",
       "    <tr>\n",
       "      <th>female</th>\n",
       "      <td>0.609526</td>\n",
       "      <td>0.492725</td>\n",
       "      <td>0.499919</td>\n",
       "      <td>0.501277</td>\n",
       "      <td>0.505268</td>\n",
       "    </tr>\n",
       "    <tr>\n",
       "      <th>male</th>\n",
       "      <td>0.673982</td>\n",
       "      <td>0.504730</td>\n",
       "      <td>0.502945</td>\n",
       "      <td>0.505434</td>\n",
       "      <td>0.497978</td>\n",
       "    </tr>\n",
       "    <tr>\n",
       "      <th>overall</th>\n",
       "      <td>0.642420</td>\n",
       "      <td>0.495826</td>\n",
       "      <td>0.495892</td>\n",
       "      <td>0.504496</td>\n",
       "      <td>0.502181</td>\n",
       "    </tr>\n",
       "  </tbody>\n",
       "</table>\n",
       "</div>"
      ],
      "text/plain": [
       "         accuracy_unmitigated  ...  accuracy_expgrad_eo_XA\n",
       "female               0.609526  ...                0.505268\n",
       "male                 0.673982  ...                0.497978\n",
       "overall              0.642420  ...                0.502181\n",
       "\n",
       "[3 rows x 5 columns]"
      ]
     },
     "metadata": {
      "tags": []
     },
     "output_type": "display_data"
    }
   ],
   "source": [
    "display(acc_agg_expgrad)"
   ]
  },
  {
   "cell_type": "markdown",
   "metadata": {
    "colab_type": "text",
    "id": "Gc45KPc8yWrT"
   },
   "source": [
    "# BGL Regression"
   ]
  },
  {
   "cell_type": "markdown",
   "metadata": {
    "colab_type": "text",
    "id": "yEYILv4-w6h4"
   },
   "source": [
    "We apply bounded group loss to linear regression using Grid Search as defined in [\"Fair Regression: Quantitative Definitions and Reduction-based Algorithms\" (Agarwal et al. 2019)](https://arxiv.org/abs/1905.12843). \n",
    "\n",
    "Bounded group loss requires that a predictor's loss remains below a specified level for each protected group. BGL minimizes the overall loss, while controlling the loss on a protected group (max-min fairness).\n",
    "\n",
    "It is important to note BGL does not enforce an artificial decrease in performance to match the hardest to predict. \n",
    "\n",
    "We apply BGL on the exam data with gender as our protected attribute. We saw in unmitigated linear regression that our prediction over-predicted male GPA and under-predicted female. "
   ]
  },
  {
   "cell_type": "code",
   "execution_count": 0,
   "metadata": {
    "colab": {},
    "colab_type": "code",
    "id": "vZ5YcxpPyVwd"
   },
   "outputs": [],
   "source": [
    "bgl_square_loss = GroupLossMoment(SquareLoss(-np.inf, np.inf))\n",
    "grid_search = GridSearch(LinearRegression(),\n",
    "                             constraints=bgl_square_loss,\n",
    "                             grid_size=41)\n",
    "grid_search.fit(X_train, y_train, sensitive_features=A_train)\n",
    "best_predict = grid_search.predict(X_test)"
   ]
  },
  {
   "cell_type": "code",
   "execution_count": 0,
   "metadata": {
    "colab": {
     "base_uri": "https://localhost:8080/",
     "height": 34
    },
    "colab_type": "code",
    "id": "CtBKiBAfzsb2",
    "outputId": "36d7646c-089e-4d79-8dc8-e99ff71b745e"
   },
   "outputs": [
    {
     "name": "stdout",
     "output_type": "stream",
     "text": [
      "30\n"
     ]
    }
   ],
   "source": [
    "lambda_vecs_regression = grid_search._lambda_vecs\n",
    "# print(lambda_vecs_regression)\n",
    "actual_multipliers_regression = lambda_vecs_regression.loc[1]\n",
    "actual_multipliers_regression_female = lambda_vecs_regression.loc[0]\n",
    "print(grid_search._best_grid_index)\n",
    "\n",
    "losses = [loss_fct(i) for i in range(len(grid_search._objectives))]\n"
   ]
  },
  {
   "cell_type": "markdown",
   "metadata": {
    "colab_type": "text",
    "id": "-_q1qXQD4B0s"
   },
   "source": [
    "We run grid search using Bounded Group loss. We see that the best grid index occurs when the lagrange multiplier value of 1.5 for males and 0.5 for females.  "
   ]
  },
  {
   "cell_type": "code",
   "execution_count": 0,
   "metadata": {
    "colab": {
     "base_uri": "https://localhost:8080/",
     "height": 173
    },
    "colab_type": "code",
    "id": "ij-71ZPX0xfC",
    "outputId": "3c4a1d4c-5373-4cc8-99f2-dfbe4fa6917e"
   },
   "outputs": [
    {
     "data": {
      "text/html": [
       "<div>\n",
       "<style scoped>\n",
       "    .dataframe tbody tr th:only-of-type {\n",
       "        vertical-align: middle;\n",
       "    }\n",
       "\n",
       "    .dataframe tbody tr th {\n",
       "        vertical-align: top;\n",
       "    }\n",
       "\n",
       "    .dataframe thead th {\n",
       "        text-align: right;\n",
       "    }\n",
       "</style>\n",
       "<table border=\"1\" class=\"dataframe\">\n",
       "  <thead>\n",
       "    <tr style=\"text-align: right;\">\n",
       "      <th></th>\n",
       "      <th>MSE LR</th>\n",
       "      <th>MSE BGL</th>\n",
       "      <th>Disparity LR</th>\n",
       "      <th>Disparity BGL</th>\n",
       "      <th>overpred LR</th>\n",
       "      <th>overpred BGL</th>\n",
       "    </tr>\n",
       "  </thead>\n",
       "  <tbody>\n",
       "    <tr>\n",
       "      <th>female</th>\n",
       "      <td>0.523292</td>\n",
       "      <td>0.551448</td>\n",
       "      <td>2.825363</td>\n",
       "      <td>2.750747</td>\n",
       "      <td>0.215446</td>\n",
       "      <td>0.189399</td>\n",
       "    </tr>\n",
       "    <tr>\n",
       "      <th>male</th>\n",
       "      <td>0.644119</td>\n",
       "      <td>0.628346</td>\n",
       "      <td>2.742930</td>\n",
       "      <td>2.679851</td>\n",
       "      <td>0.381711</td>\n",
       "      <td>0.348775</td>\n",
       "    </tr>\n",
       "    <tr>\n",
       "      <th>overall</th>\n",
       "      <td>0.584954</td>\n",
       "      <td>0.590692</td>\n",
       "      <td>2.783295</td>\n",
       "      <td>2.714566</td>\n",
       "      <td>0.300296</td>\n",
       "      <td>0.270734</td>\n",
       "    </tr>\n",
       "    <tr>\n",
       "      <th>disparity</th>\n",
       "      <td>0.120826</td>\n",
       "      <td>0.076898</td>\n",
       "      <td>0.082434</td>\n",
       "      <td>0.070897</td>\n",
       "      <td>-</td>\n",
       "      <td>-</td>\n",
       "    </tr>\n",
       "  </tbody>\n",
       "</table>\n",
       "</div>"
      ],
      "text/plain": [
       "             MSE LR   MSE BGL  ...  overpred LR  overpred BGL\n",
       "female     0.523292  0.551448  ...     0.215446      0.189399\n",
       "male       0.644119  0.628346  ...     0.381711      0.348775\n",
       "overall    0.584954  0.590692  ...     0.300296      0.270734\n",
       "disparity  0.120826  0.076898  ...            -             -\n",
       "\n",
       "[4 rows x 6 columns]"
      ]
     },
     "metadata": {
      "tags": []
     },
     "output_type": "display_data"
    }
   ],
   "source": [
    "mse_bgl = group_metric_as_df(\n",
    "      \"MSE BGL\", \n",
    "      group_mean_squared_error(y_test, best_predict, A_test))\n",
    "mse_lr = group_metric_as_df(\n",
    "      \"MSE LR\", \n",
    "      group_mean_squared_error(y_test, lr_pred, A_test))\n",
    "disp_bgl = group_metric_as_df(\n",
    "    \"Disparity BGL\",\n",
    "    group_mean_prediction(y_test, best_predict, A_test))\n",
    "disp_lr = group_metric_as_df(\n",
    "    \"Disparity LR\",\n",
    "    group_mean_prediction(y_test, lr_pred, A_test))\n",
    "\n",
    "over_pred_bgl = group_metric_as_df(\n",
    "    \"overpred BGL\",\n",
    "    group_mean_overprediction(y_test, best_predict, A_test))\n",
    "over_pred_unmit = group_metric_as_df(\n",
    "    \"overpred LR\",\n",
    "    group_mean_overprediction(y_test, lr_pred, A_test))\n",
    "\n",
    "bgl_summary_regression = pd.concat([mse_lr, mse_bgl, disp_lr, disp_bgl, over_pred_unmit, over_pred_bgl], axis=1)\n",
    "bgl_summary_regression.loc['disparity']=(bgl_summary_regression.loc[0]-bgl_summary_regression.loc[1]).abs()\n",
    "bgl_summary_regression.loc['disparity', bgl_summary_regression.columns.str.startswith('mse')]='-'\n",
    "bgl_summary_regression.loc['disparity', bgl_summary_regression.columns.str.startswith('overpred')]='-'\n",
    "bgl_summary_regression.rename(index={0: \"female\", 1: \"male\"}, inplace=True)\n",
    "display(bgl_summary_regression)"
   ]
  },
  {
   "cell_type": "markdown",
   "metadata": {
    "colab_type": "text",
    "id": "snihpqp35St_"
   },
   "source": [
    "We see that the MSE of the BGL regression is higher for both male and female compared to unmitigated regression. We see that the disparity between the two groups is smaller in BGL. \n",
    "\n",
    "We do see that the overprediction of males decreases in BGL. This is good as we saw that our unmitigated regressor overpredicted male GPA. "
   ]
  },
  {
   "cell_type": "code",
   "execution_count": 0,
   "metadata": {
    "colab": {
     "base_uri": "https://localhost:8080/",
     "height": 807
    },
    "colab_type": "code",
    "id": "VbFX_8koGri-",
    "outputId": "9b54513f-f6a2-4223-92ea-02bc41399818"
   },
   "outputs": [
    {
     "data": {
      "image/png": "[encoded data removed]",
      "text/plain": [
       "<Figure size 432x288 with 1 Axes>"
      ]
     },
     "metadata": {
      "needs_background": "light",
      "tags": []
     },
     "output_type": "display_data"
    },
    {
     "data": {
      "image/png": "[encoded data removed]",
      "text/plain": [
       "<Figure size 432x288 with 1 Axes>"
      ]
     },
     "metadata": {
      "needs_background": "light",
      "tags": []
     },
     "output_type": "display_data"
    },
    {
     "data": {
      "image/png": "[encoded data removed]",
      "text/plain": [
       "<Figure size 432x288 with 1 Axes>"
      ]
     },
     "metadata": {
      "needs_background": "light",
      "tags": []
     },
     "output_type": "display_data"
    }
   ],
   "source": [
    "y_preds_bgl = [grid_search._predictors[i].predict(X_test) for i in range(len(grid_search._predictors))]\n",
    "\n",
    "\n",
    "mse_bgl_groups = [group_metric_as_df(i, group_mean_squared_error(y_test, y_preds_bgl[i], A_test)) for i in range(len(y_preds_bgl))]\n",
    "disp_bgl_groups = [group_metric_as_df(i, group_mean_prediction(y_test, y_preds_bgl[i], A_test)) for i in range(len(y_preds_bgl))]\n",
    "overpred_bgl_groups = [group_metric_as_df(i, group_mean_overprediction(y_test, y_preds_bgl[i], A_test)) for i in range(len(y_preds_bgl))]\n",
    "\n",
    "bgl_df_mse = pd.concat(mse_bgl_groups, axis = 1)\n",
    "bgl_df_disp = pd.concat(disp_bgl_groups, axis = 1)\n",
    "bgl_df_overpred = pd.concat(overpred_bgl_groups, axis = 1)\n",
    "\n",
    "\n",
    "plt.scatter(bgl_df_disp.loc['overall'], bgl_df_mse.loc['overall'], c = 'lightblue', label='Grid Search')\n",
    "plt.scatter(disp_lr.loc['overall'], mse_lr.loc['overall'], c = 'coral', label = ' Unmitigated Linear Regression')\n",
    "plt.scatter(disp_bgl.loc['overall'], mse_bgl.loc['overall'], c = 'green', label = 'Best Grid Search Predictor')\n",
    "plt.xlabel(\"Overall Disparity\")\n",
    "plt.ylabel(\"MSE\")\n",
    "plt.legend()\n",
    "plt.show()\n",
    "\n",
    "\n",
    "\n",
    "plt.scatter(bgl_df_disp.loc[0], bgl_df_mse.loc[0], c = 'lightblue', label='Grid Search')\n",
    "plt.scatter(disp_lr.loc[0], mse_lr.loc[0], c = 'coral', label = ' Unmitigated Linear Regression')\n",
    "plt.scatter(disp_bgl.loc[0], mse_bgl.loc[0], c = 'green', label = 'Best Grid Search Predictor')\n",
    "plt.xlabel(\"Disparity Female\")\n",
    "plt.ylabel(\"MSE Female\")\n",
    "plt.legend()\n",
    "plt.show()\n",
    "\n",
    "plt.scatter(bgl_df_disp.loc[1], bgl_df_mse.loc[1], c = 'lightblue', label='Grid Search')\n",
    "plt.scatter(disp_lr.loc[1], mse_lr.loc[1], c = 'coral', label = ' Unmitigated Linear Regression')\n",
    "plt.scatter(disp_bgl.loc[1], mse_bgl.loc[1], c = 'green', label = 'Best Grid Search Predictor')\n",
    "plt.xlabel(\"Disparity Male\")\n",
    "plt.ylabel(\"MSE Male\")\n",
    "plt.legend()\n",
    "plt.show()\n",
    "\n",
    "\n"
   ]
  },
  {
   "cell_type": "markdown",
   "metadata": {
    "colab_type": "text",
    "id": "IuZ3iL95a_3z"
   },
   "source": [
    "We see that the MSE is smallest on the unmitigated linear regression. However, BGL in Grid Search selects a model that has a slightly higher MSE. However, the overall disparity between male and female is lower in the chosen model. \n",
    "\n",
    "With BGL we want to minimize the overall loss on the model while ensuring each protected groups' loss is bounded within a certain level. \n",
    "\n"
   ]
  },
  {
   "cell_type": "code",
   "execution_count": 0,
   "metadata": {
    "colab": {
     "base_uri": "https://localhost:8080/",
     "height": 805
    },
    "colab_type": "code",
    "id": "rJ1ZAdZAcauO",
    "outputId": "7ca60930-f628-4b22-8c52-1a3c013a9d42"
   },
   "outputs": [
    {
     "data": {
      "image/png": "[encoded data removed]",
      "text/plain": [
       "<Figure size 432x288 with 1 Axes>"
      ]
     },
     "metadata": {
      "needs_background": "light",
      "tags": []
     },
     "output_type": "display_data"
    },
    {
     "data": {
      "image/png": "[encoded data removed]",
      "text/plain": [
       "<Figure size 432x288 with 1 Axes>"
      ]
     },
     "metadata": {
      "needs_background": "light",
      "tags": []
     },
     "output_type": "display_data"
    },
    {
     "data": {
      "image/png": "[encoded data removed]",
      "text/plain": [
       "<Figure size 432x288 with 1 Axes>"
      ]
     },
     "metadata": {
      "needs_background": "light",
      "tags": []
     },
     "output_type": "display_data"
    }
   ],
   "source": [
    "plt.scatter(bgl_df_disp.loc['overall'], bgl_df_overpred.loc['overall'], c = 'lightblue', label='Grid Search')\n",
    "plt.scatter(disp_lr.loc['overall'], over_pred_unmit.loc['overall'], c = 'coral', label = ' Unmitigated Linear Regression')\n",
    "plt.scatter(disp_bgl.loc['overall'], over_pred_bgl.loc['overall'], c = 'green', label = 'Best Grid Search Predictor')\n",
    "plt.xlabel(\"Overall Disparity\")\n",
    "plt.ylabel(\"OverPrediction\")\n",
    "plt.legend()\n",
    "plt.show()\n",
    "\n",
    "\n",
    "\n",
    "plt.scatter(bgl_df_disp.loc[0], bgl_df_overpred.loc[0], c = 'lightblue', label='Grid Search')\n",
    "plt.scatter(disp_lr.loc[0], over_pred_unmit.loc[0], c = 'coral', label = ' Unmitigated Linear Regression')\n",
    "plt.scatter(disp_bgl.loc[0], over_pred_bgl.loc[0], c = 'green', label = 'Best Grid Search Predictor')\n",
    "plt.xlabel(\"Disparity Female\")\n",
    "plt.ylabel(\"Over Prediction Female\")\n",
    "plt.legend()\n",
    "plt.show()\n",
    "\n",
    "plt.scatter(bgl_df_disp.loc[1], bgl_df_overpred.loc[1], c = 'lightblue', label='Grid Search')\n",
    "plt.scatter(disp_lr.loc[1], over_pred_unmit.loc[1], c = 'coral', label = ' Unmitigated Linear Regression')\n",
    "plt.scatter(disp_bgl.loc[1], over_pred_bgl.loc[1], c = 'green', label = 'Best Grid Search Predictor')\n",
    "plt.xlabel(\"Disparity Male\")\n",
    "plt.ylabel(\"Over Prediction Male\")\n",
    "plt.legend()\n",
    "plt.show()"
   ]
  },
  {
   "cell_type": "markdown",
   "metadata": {
    "colab_type": "text",
    "id": "V5YjxEG4dNhE"
   },
   "source": [
    "Furthermore, BGL selects a model that minimizes both the overall disparity as well as the overprediction rate. In the unmitigated linear regression, we saw that male students were over-predicted and female students were under-predicted. BGL lowers the overprediction for both male and female as well as the disparity between the two. However, since females naturally have a higher GPA we are still undercounting female performance in this new model. "
   ]
  },
  {
   "cell_type": "markdown",
   "metadata": {
    "colab_type": "text",
    "id": "t0PRGeSWFBPS"
   },
   "source": [
    "# Future Work "
   ]
  },
  {
   "cell_type": "markdown",
   "metadata": {
    "colab_type": "text",
    "id": "QxWu22JieUil"
   },
   "source": [
    "In the next half of the quarter, we are going to work on implementing BGL for Exponentiated Gradient. To do so requires some re-configuring of the current code base. \n",
    "\n",
    "\n",
    "**Incorporating Right Hand Side to Gamma**\n",
    "\n",
    "Most of the code was written with the original goal of classification. As we move towards regression, we need to make some structural changes. In classification, we have two parameters self.gamma and self.eps within the lagrangian. The gamma comes from the [moments](https://github.com/fairlearn/fairlearn/tree/master/fairlearn/reductions/_moments) classes in the repo. Our first task is to incorporate epsilon into the moments class for the different moments available. We will create a new parameter in the moments and a new method bound. Depending on the moment, the bound will be created by parameters passed into the constructor for the moment. The bound method will return a vector of epsilon values representing the bound. When we call the oracle we will be calling\n",
    "\n",
    "   *L = error + np.sum(lambda_vec * (gamma - bound))*\n",
    " \n",
    " as opposed to\n",
    " \n",
    "  *L = error + np.sum(lambda_vec * (gamma - self.eps))*\n",
    "\n",
    "**Adding Control Flow to Lagrangian to Allow for Classification and Regression**\n",
    "\n",
    "After incorporating the right hand side of gamma into the moments, we can update the lagrangian. BGL in exponentiated gradient uses a different call to the oracle than classification. Whereas the currently implemented use cases implement a cost-senstivive classification, BGL frames the problem as a risk minimization optimization problem. We need to update the current lagrangian to handle both regression and classification. The main changes will be within the [_call_oracle ](https://github.com/fairlearn/fairlearn/blob/master/fairlearn/reductions/_exponentiated_gradient/_lagrangian.py)method. Unlike in classification, we do not update the classes of Y in our optimization. We will add a control flow to the lagrangian to detect classification vs. regression reductions and apply correct oracle to solve the optimization.   \n",
    "\n",
    "**Testing Implementation works as desired**\n",
    "\n",
    "As we make these changes we not only need to test that the new code is compatible with the current infrastructure, but we also need to test that the BGL in Exponentiated Gradient works as desired. We will thoroughly test our implementation to ensure it works correctly. \n"
   ]
  },
  {
   "cell_type": "markdown",
   "metadata": {
    "colab_type": "text",
    "id": "YU5TaiejHv-J"
   },
   "source": [
    "# Further Clarifications "
   ]
  }
 ],
 "metadata": {
  "colab": {
   "collapsed_sections": [],
   "name": "GPA_fairlearn.ipynb",
   "provenance": []
  },
  "kernelspec": {
   "display_name": "Python 3",
   "language": "python",
   "name": "python3"
  },
  "language_info": {
   "codemirror_mode": {
    "name": "ipython",
    "version": 3
   },
   "file_extension": ".py",
   "mimetype": "text/x-python",
   "name": "python",
   "nbconvert_exporter": "python",
   "pygments_lexer": "ipython3",
   "version": "3.7.7"
  },
  "pycharm": {
   "stem_cell": {
    "cell_type": "raw",
    "metadata": {
     "collapsed": false
    },
    "source": [
     "#\n",
     "\n",
     "%%capture\n",
     "!pip install fairlearn\n"
    ]
   }
  }
 },
 "nbformat": 4,
 "nbformat_minor": 1
}
